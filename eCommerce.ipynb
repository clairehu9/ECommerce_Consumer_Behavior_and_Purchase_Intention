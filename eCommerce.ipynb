{
 "cells": [
  {
   "cell_type": "code",
   "execution_count": 1,
   "metadata": {},
   "outputs": [
    {
     "name": "stdout",
     "output_type": "stream",
     "text": [
      "       Administrative  Administrative_Duration  Informational  \\\n",
      "0                   0                 0.000000              0   \n",
      "1                   0                 0.000000              0   \n",
      "2                   0                 0.000000              0   \n",
      "3                   0                 0.000000              0   \n",
      "4                   0                 0.000000              0   \n",
      "5                   0                 0.000000              0   \n",
      "6                   0                 0.000000              0   \n",
      "7                   1                 0.000000              0   \n",
      "8                   0                 0.000000              0   \n",
      "9                   0                 0.000000              0   \n",
      "10                  0                 0.000000              0   \n",
      "11                  0                 0.000000              0   \n",
      "12                  0                 0.000000              0   \n",
      "13                  0                 0.000000              0   \n",
      "14                  0                 0.000000              0   \n",
      "15                  2                53.000000              0   \n",
      "16                  0                 0.000000              0   \n",
      "17                  0                 0.000000              0   \n",
      "18                  0                 0.000000              0   \n",
      "19                  0                 0.000000              0   \n",
      "20                  0                 0.000000              0   \n",
      "21                  0                 0.000000              0   \n",
      "22                  0                 0.000000              0   \n",
      "23                  0                 0.000000              0   \n",
      "24                  0                 0.000000              0   \n",
      "25                  0                 0.000000              0   \n",
      "26                  4                64.600000              0   \n",
      "27                  0                 0.000000              0   \n",
      "28                  0                 0.000000              0   \n",
      "29                  1                 6.000000              1   \n",
      "...               ...                      ...            ...   \n",
      "12300               0                 0.000000              0   \n",
      "12301               0                 0.000000              0   \n",
      "12302               0                 0.000000              0   \n",
      "12303               0                 0.000000              0   \n",
      "12304               0                 0.000000              0   \n",
      "12305               0                 0.000000              0   \n",
      "12306               0                 0.000000              0   \n",
      "12307               2               305.125000              3   \n",
      "12308               1                19.000000              0   \n",
      "12309               3                54.000000              0   \n",
      "12310               1                 5.000000              0   \n",
      "12311               1                 0.000000              2   \n",
      "12312               7               150.357143              1   \n",
      "12313               3                16.000000              3   \n",
      "12314               0                 0.000000              0   \n",
      "12315               0                 0.000000              0   \n",
      "12316               0                 0.000000              0   \n",
      "12317               3               100.500000              0   \n",
      "12318               0                 0.000000              0   \n",
      "12319               0                 0.000000              0   \n",
      "12320               0                 0.000000              0   \n",
      "12321               0                 0.000000              0   \n",
      "12322               6                76.250000              0   \n",
      "12323               2                64.750000              0   \n",
      "12324               0                 0.000000              1   \n",
      "12325               3               145.000000              0   \n",
      "12326               0                 0.000000              0   \n",
      "12327               0                 0.000000              0   \n",
      "12328               4                75.000000              0   \n",
      "12329               0                 0.000000              0   \n",
      "\n",
      "       Informational_Duration  ProductRelated  ProductRelated_Duration  \\\n",
      "0                        0.00               1                 0.000000   \n",
      "1                        0.00               2                64.000000   \n",
      "2                        0.00               1                 0.000000   \n",
      "3                        0.00               2                 2.666667   \n",
      "4                        0.00              10               627.500000   \n",
      "5                        0.00              19               154.216667   \n",
      "6                        0.00               1                 0.000000   \n",
      "7                        0.00               0                 0.000000   \n",
      "8                        0.00               2                37.000000   \n",
      "9                        0.00               3               738.000000   \n",
      "10                       0.00               3               395.000000   \n",
      "11                       0.00              16               407.750000   \n",
      "12                       0.00               7               280.500000   \n",
      "13                       0.00               6                98.000000   \n",
      "14                       0.00               2                68.000000   \n",
      "15                       0.00              23              1668.285119   \n",
      "16                       0.00               1                 0.000000   \n",
      "17                       0.00              13               334.966667   \n",
      "18                       0.00               2                32.000000   \n",
      "19                       0.00              20              2981.166667   \n",
      "20                       0.00               8               136.166667   \n",
      "21                       0.00               2                 0.000000   \n",
      "22                       0.00               3               105.000000   \n",
      "23                       0.00               2                15.000000   \n",
      "24                       0.00               1                 0.000000   \n",
      "25                       0.00               5               156.000000   \n",
      "26                       0.00              32              1135.444444   \n",
      "27                       0.00               4                76.000000   \n",
      "28                       0.00               4                63.000000   \n",
      "29                       0.00              45              1582.750000   \n",
      "...                       ...             ...                      ...   \n",
      "12300                    0.00               9               719.583333   \n",
      "12301                    0.00               2                 0.000000   \n",
      "12302                    0.00              22               185.250000   \n",
      "12303                    0.00               3               172.000000   \n",
      "12304                    0.00              30               655.542857   \n",
      "12305                    0.00              39              1168.619841   \n",
      "12306                    0.00              13              1041.750000   \n",
      "12307                  368.25              27              1121.250000   \n",
      "12308                    0.00              45              4018.450000   \n",
      "12309                    0.00              20               262.900000   \n",
      "12310                    0.00              21               411.083333   \n",
      "12311                  211.25             144              4627.489571   \n",
      "12312                    9.00             221             11431.001240   \n",
      "12313                   86.00              15              2773.500000   \n",
      "12314                    0.00               7               705.833333   \n",
      "12315                    0.00               7               212.500000   \n",
      "12316                    0.00              44               615.000000   \n",
      "12317                    0.00              95              1453.640882   \n",
      "12318                    0.00               6               279.000000   \n",
      "12319                    0.00              21              1128.583333   \n",
      "12320                    0.00               8               143.583333   \n",
      "12321                    0.00               6                 0.000000   \n",
      "12322                    0.00              22              1075.250000   \n",
      "12323                    0.00              44              1157.976190   \n",
      "12324                    0.00              16               503.000000   \n",
      "12325                    0.00              53              1783.791667   \n",
      "12326                    0.00               5               465.750000   \n",
      "12327                    0.00               6               184.250000   \n",
      "12328                    0.00              15               346.000000   \n",
      "12329                    0.00               3                21.250000   \n",
      "\n",
      "       BounceRates  ExitRates  PageValues  SpecialDay Month  OperatingSystems  \\\n",
      "0         0.200000   0.200000    0.000000         0.0   Feb                 1   \n",
      "1         0.000000   0.100000    0.000000         0.0   Feb                 2   \n",
      "2         0.200000   0.200000    0.000000         0.0   Feb                 4   \n",
      "3         0.050000   0.140000    0.000000         0.0   Feb                 3   \n",
      "4         0.020000   0.050000    0.000000         0.0   Feb                 3   \n",
      "5         0.015789   0.024561    0.000000         0.0   Feb                 2   \n",
      "6         0.200000   0.200000    0.000000         0.4   Feb                 2   \n",
      "7         0.200000   0.200000    0.000000         0.0   Feb                 1   \n",
      "8         0.000000   0.100000    0.000000         0.8   Feb                 2   \n",
      "9         0.000000   0.022222    0.000000         0.4   Feb                 2   \n",
      "10        0.000000   0.066667    0.000000         0.0   Feb                 1   \n",
      "11        0.018750   0.025833    0.000000         0.4   Feb                 1   \n",
      "12        0.000000   0.028571    0.000000         0.0   Feb                 1   \n",
      "13        0.000000   0.066667    0.000000         0.0   Feb                 2   \n",
      "14        0.000000   0.100000    0.000000         0.0   Feb                 3   \n",
      "15        0.008333   0.016313    0.000000         0.0   Feb                 1   \n",
      "16        0.200000   0.200000    0.000000         0.0   Feb                 1   \n",
      "17        0.000000   0.007692    0.000000         0.0   Feb                 1   \n",
      "18        0.000000   0.100000    0.000000         0.0   Feb                 2   \n",
      "19        0.000000   0.010000    0.000000         0.0   Feb                 2   \n",
      "20        0.000000   0.008333    0.000000         1.0   Feb                 2   \n",
      "21        0.200000   0.200000    0.000000         0.0   Feb                 3   \n",
      "22        0.000000   0.033333    0.000000         0.0   Feb                 3   \n",
      "23        0.000000   0.100000    0.000000         0.8   Feb                 2   \n",
      "24        0.200000   0.200000    0.000000         0.0   Feb                 2   \n",
      "25        0.000000   0.040000    0.000000         0.0   Feb                 1   \n",
      "26        0.002857   0.009524    0.000000         0.0   Feb                 2   \n",
      "27        0.050000   0.100000    0.000000         0.0   Feb                 1   \n",
      "28        0.000000   0.050000    0.000000         0.2   Feb                 2   \n",
      "29        0.043478   0.050821   54.179764         0.4   Feb                 3   \n",
      "...            ...        ...         ...         ...   ...               ...   \n",
      "12300     0.022222   0.055556    0.000000         0.0   Nov                 2   \n",
      "12301     0.200000   0.200000    0.000000         0.0   Nov                 1   \n",
      "12302     0.021212   0.075758    0.000000         0.0   Nov                 2   \n",
      "12303     0.000000   0.066667    0.000000         0.0   Dec                 2   \n",
      "12304     0.006667   0.019667    0.000000         0.0   Dec                 3   \n",
      "12305     0.000000   0.009064    0.000000         0.0   Nov                 1   \n",
      "12306     0.018182   0.027273    0.000000         0.0   Dec                 2   \n",
      "12307     0.020000   0.042857   39.519807         0.0   Dec                 3   \n",
      "12308     0.009091   0.021970    0.000000         0.0   Nov                 2   \n",
      "12309     0.008333   0.055556    0.000000         0.0   Dec                 2   \n",
      "12310     0.015789   0.016140    0.000000         0.0   Nov                 3   \n",
      "12311     0.001361   0.020664    0.000000         0.0   Nov                 2   \n",
      "12312     0.011149   0.021904    1.582473         0.0   Nov                 2   \n",
      "12313     0.000000   0.030000   78.811725         0.0   Dec                 2   \n",
      "12314     0.028571   0.085714    0.000000         0.0   Dec                 5   \n",
      "12315     0.000000   0.033333    0.000000         0.0   Nov                 3   \n",
      "12316     0.013636   0.036364    0.000000         0.0   Dec                 4   \n",
      "12317     0.002105   0.012761    0.000000         0.0   Dec                 2   \n",
      "12318     0.000000   0.033333    0.000000         0.0   Dec                 1   \n",
      "12319     0.000000   0.013043    3.685401         0.0   Dec                 2   \n",
      "12320     0.014286   0.050000    0.000000         0.0   Nov                 2   \n",
      "12321     0.200000   0.200000    0.000000         0.0   Nov                 1   \n",
      "12322     0.000000   0.004167    0.000000         0.0   Dec                 2   \n",
      "12323     0.000000   0.013953    0.000000         0.0   Nov                 2   \n",
      "12324     0.000000   0.037647    0.000000         0.0   Nov                 2   \n",
      "12325     0.007143   0.029031   12.241717         0.0   Dec                 4   \n",
      "12326     0.000000   0.021333    0.000000         0.0   Nov                 3   \n",
      "12327     0.083333   0.086667    0.000000         0.0   Nov                 3   \n",
      "12328     0.000000   0.021053    0.000000         0.0   Nov                 2   \n",
      "12329     0.000000   0.066667    0.000000         0.0   Nov                 3   \n",
      "\n",
      "       Browser  Region  TrafficType        VisitorType  Weekend  Revenue  \n",
      "0            1       1            1  Returning_Visitor    False    False  \n",
      "1            2       1            2  Returning_Visitor    False    False  \n",
      "2            1       9            3  Returning_Visitor    False    False  \n",
      "3            2       2            4  Returning_Visitor    False    False  \n",
      "4            3       1            4  Returning_Visitor     True    False  \n",
      "5            2       1            3  Returning_Visitor    False    False  \n",
      "6            4       3            3  Returning_Visitor    False    False  \n",
      "7            2       1            5  Returning_Visitor     True    False  \n",
      "8            2       2            3  Returning_Visitor    False    False  \n",
      "9            4       1            2  Returning_Visitor    False    False  \n",
      "10           1       3            3  Returning_Visitor    False    False  \n",
      "11           1       4            3  Returning_Visitor    False    False  \n",
      "12           1       1            3  Returning_Visitor    False    False  \n",
      "13           5       1            3  Returning_Visitor    False    False  \n",
      "14           2       3            3  Returning_Visitor    False    False  \n",
      "15           1       9            3  Returning_Visitor    False    False  \n",
      "16           1       4            3  Returning_Visitor    False    False  \n",
      "17           1       1            4  Returning_Visitor     True    False  \n",
      "18           2       1            3  Returning_Visitor    False    False  \n",
      "19           4       4            4  Returning_Visitor    False    False  \n",
      "20           2       5            1  Returning_Visitor     True    False  \n",
      "21           3       1            3  Returning_Visitor    False    False  \n",
      "22           2       1            5  Returning_Visitor    False    False  \n",
      "23           4       1            3  Returning_Visitor    False    False  \n",
      "24           2       4            1  Returning_Visitor     True    False  \n",
      "25           1       9            3  Returning_Visitor    False    False  \n",
      "26           2       1            3  Returning_Visitor    False    False  \n",
      "27           1       1            3  Returning_Visitor    False    False  \n",
      "28           6       1            3  Returning_Visitor    False    False  \n",
      "29           2       1            1  Returning_Visitor    False    False  \n",
      "...        ...     ...          ...                ...      ...      ...  \n",
      "12300        4       4            2  Returning_Visitor    False    False  \n",
      "12301        1       4            1  Returning_Visitor    False    False  \n",
      "12302        7       1            1  Returning_Visitor     True    False  \n",
      "12303       13       9           20  Returning_Visitor    False    False  \n",
      "12304        2       1            2  Returning_Visitor     True    False  \n",
      "12305        1       4            3  Returning_Visitor    False    False  \n",
      "12306        2       5            2  Returning_Visitor    False    False  \n",
      "12307        2       1            2  Returning_Visitor    False    False  \n",
      "12308        2       3            1  Returning_Visitor     True    False  \n",
      "12309        2       1            2  Returning_Visitor    False    False  \n",
      "12310        2       7            3  Returning_Visitor    False    False  \n",
      "12311        2       1            2  Returning_Visitor    False     True  \n",
      "12312        5       1            2  Returning_Visitor     True     True  \n",
      "12313        2       1            2  Returning_Visitor    False     True  \n",
      "12314       11       4            1  Returning_Visitor     True    False  \n",
      "12315        2       1           11  Returning_Visitor     True    False  \n",
      "12316        1       3            1  Returning_Visitor    False    False  \n",
      "12317        2       3            2        New_Visitor    False    False  \n",
      "12318        2       3           10  Returning_Visitor     True    False  \n",
      "12319        2       1            2  Returning_Visitor    False    False  \n",
      "12320        2       3            1  Returning_Visitor    False    False  \n",
      "12321        8       4            1  Returning_Visitor    False    False  \n",
      "12322        2       4            2  Returning_Visitor    False    False  \n",
      "12323        2       1           10  Returning_Visitor    False    False  \n",
      "12324        2       1            1  Returning_Visitor    False    False  \n",
      "12325        6       1            1  Returning_Visitor     True    False  \n",
      "12326        2       1            8  Returning_Visitor     True    False  \n",
      "12327        2       1           13  Returning_Visitor     True    False  \n",
      "12328        2       3           11  Returning_Visitor    False    False  \n",
      "12329        2       1            2        New_Visitor     True    False  \n",
      "\n",
      "[12330 rows x 18 columns]\n"
     ]
    }
   ],
   "source": [
    "%matplotlib inline\n",
    "\n",
    "\n",
    "# 1. Prepare Problem #\n",
    "\n",
    "#    a. Load libraries #\n",
    "import pandas as pd\n",
    "import matplotlib.pyplot as plt\n",
    "import numpy as np\n",
    "\n",
    "#    b. Load dataset #\n",
    "input_file = 'online_shoppers_intention.csv'\n",
    "dataset = pd.read_csv(input_file)\n",
    "print(dataset)\n"
   ]
  },
  {
   "cell_type": "code",
   "execution_count": 2,
   "metadata": {},
   "outputs": [
    {
     "data": {
      "text/html": [
       "<div>\n",
       "<style scoped>\n",
       "    .dataframe tbody tr th:only-of-type {\n",
       "        vertical-align: middle;\n",
       "    }\n",
       "\n",
       "    .dataframe tbody tr th {\n",
       "        vertical-align: top;\n",
       "    }\n",
       "\n",
       "    .dataframe thead th {\n",
       "        text-align: right;\n",
       "    }\n",
       "</style>\n",
       "<table border=\"1\" class=\"dataframe\">\n",
       "  <thead>\n",
       "    <tr style=\"text-align: right;\">\n",
       "      <th></th>\n",
       "      <th>Administrative</th>\n",
       "      <th>Administrative_Duration</th>\n",
       "      <th>Informational</th>\n",
       "      <th>Informational_Duration</th>\n",
       "      <th>ProductRelated</th>\n",
       "      <th>ProductRelated_Duration</th>\n",
       "      <th>BounceRates</th>\n",
       "      <th>ExitRates</th>\n",
       "      <th>PageValues</th>\n",
       "      <th>SpecialDay</th>\n",
       "      <th>OperatingSystems</th>\n",
       "      <th>Browser</th>\n",
       "      <th>Region</th>\n",
       "      <th>TrafficType</th>\n",
       "    </tr>\n",
       "  </thead>\n",
       "  <tbody>\n",
       "    <tr>\n",
       "      <th>count</th>\n",
       "      <td>12330.000000</td>\n",
       "      <td>12330.000000</td>\n",
       "      <td>12330.000000</td>\n",
       "      <td>12330.000000</td>\n",
       "      <td>12330.000000</td>\n",
       "      <td>12330.000000</td>\n",
       "      <td>12330.000000</td>\n",
       "      <td>12330.000000</td>\n",
       "      <td>12330.000000</td>\n",
       "      <td>12330.000000</td>\n",
       "      <td>12330.000000</td>\n",
       "      <td>12330.000000</td>\n",
       "      <td>12330.000000</td>\n",
       "      <td>12330.000000</td>\n",
       "    </tr>\n",
       "    <tr>\n",
       "      <th>mean</th>\n",
       "      <td>2.315166</td>\n",
       "      <td>80.818611</td>\n",
       "      <td>0.503569</td>\n",
       "      <td>34.472398</td>\n",
       "      <td>31.731468</td>\n",
       "      <td>1194.746220</td>\n",
       "      <td>0.022191</td>\n",
       "      <td>0.043073</td>\n",
       "      <td>5.889258</td>\n",
       "      <td>0.061427</td>\n",
       "      <td>2.124006</td>\n",
       "      <td>2.357097</td>\n",
       "      <td>3.147364</td>\n",
       "      <td>4.069586</td>\n",
       "    </tr>\n",
       "    <tr>\n",
       "      <th>std</th>\n",
       "      <td>3.321784</td>\n",
       "      <td>176.779107</td>\n",
       "      <td>1.270156</td>\n",
       "      <td>140.749294</td>\n",
       "      <td>44.475503</td>\n",
       "      <td>1913.669288</td>\n",
       "      <td>0.048488</td>\n",
       "      <td>0.048597</td>\n",
       "      <td>18.568437</td>\n",
       "      <td>0.198917</td>\n",
       "      <td>0.911325</td>\n",
       "      <td>1.717277</td>\n",
       "      <td>2.401591</td>\n",
       "      <td>4.025169</td>\n",
       "    </tr>\n",
       "    <tr>\n",
       "      <th>min</th>\n",
       "      <td>0.000000</td>\n",
       "      <td>0.000000</td>\n",
       "      <td>0.000000</td>\n",
       "      <td>0.000000</td>\n",
       "      <td>0.000000</td>\n",
       "      <td>0.000000</td>\n",
       "      <td>0.000000</td>\n",
       "      <td>0.000000</td>\n",
       "      <td>0.000000</td>\n",
       "      <td>0.000000</td>\n",
       "      <td>1.000000</td>\n",
       "      <td>1.000000</td>\n",
       "      <td>1.000000</td>\n",
       "      <td>1.000000</td>\n",
       "    </tr>\n",
       "    <tr>\n",
       "      <th>25%</th>\n",
       "      <td>0.000000</td>\n",
       "      <td>0.000000</td>\n",
       "      <td>0.000000</td>\n",
       "      <td>0.000000</td>\n",
       "      <td>7.000000</td>\n",
       "      <td>184.137500</td>\n",
       "      <td>0.000000</td>\n",
       "      <td>0.014286</td>\n",
       "      <td>0.000000</td>\n",
       "      <td>0.000000</td>\n",
       "      <td>2.000000</td>\n",
       "      <td>2.000000</td>\n",
       "      <td>1.000000</td>\n",
       "      <td>2.000000</td>\n",
       "    </tr>\n",
       "    <tr>\n",
       "      <th>50%</th>\n",
       "      <td>1.000000</td>\n",
       "      <td>7.500000</td>\n",
       "      <td>0.000000</td>\n",
       "      <td>0.000000</td>\n",
       "      <td>18.000000</td>\n",
       "      <td>598.936905</td>\n",
       "      <td>0.003112</td>\n",
       "      <td>0.025156</td>\n",
       "      <td>0.000000</td>\n",
       "      <td>0.000000</td>\n",
       "      <td>2.000000</td>\n",
       "      <td>2.000000</td>\n",
       "      <td>3.000000</td>\n",
       "      <td>2.000000</td>\n",
       "    </tr>\n",
       "    <tr>\n",
       "      <th>75%</th>\n",
       "      <td>4.000000</td>\n",
       "      <td>93.256250</td>\n",
       "      <td>0.000000</td>\n",
       "      <td>0.000000</td>\n",
       "      <td>38.000000</td>\n",
       "      <td>1464.157213</td>\n",
       "      <td>0.016813</td>\n",
       "      <td>0.050000</td>\n",
       "      <td>0.000000</td>\n",
       "      <td>0.000000</td>\n",
       "      <td>3.000000</td>\n",
       "      <td>2.000000</td>\n",
       "      <td>4.000000</td>\n",
       "      <td>4.000000</td>\n",
       "    </tr>\n",
       "    <tr>\n",
       "      <th>max</th>\n",
       "      <td>27.000000</td>\n",
       "      <td>3398.750000</td>\n",
       "      <td>24.000000</td>\n",
       "      <td>2549.375000</td>\n",
       "      <td>705.000000</td>\n",
       "      <td>63973.522230</td>\n",
       "      <td>0.200000</td>\n",
       "      <td>0.200000</td>\n",
       "      <td>361.763742</td>\n",
       "      <td>1.000000</td>\n",
       "      <td>8.000000</td>\n",
       "      <td>13.000000</td>\n",
       "      <td>9.000000</td>\n",
       "      <td>20.000000</td>\n",
       "    </tr>\n",
       "  </tbody>\n",
       "</table>\n",
       "</div>"
      ],
      "text/plain": [
       "       Administrative  Administrative_Duration  Informational  \\\n",
       "count    12330.000000             12330.000000   12330.000000   \n",
       "mean         2.315166                80.818611       0.503569   \n",
       "std          3.321784               176.779107       1.270156   \n",
       "min          0.000000                 0.000000       0.000000   \n",
       "25%          0.000000                 0.000000       0.000000   \n",
       "50%          1.000000                 7.500000       0.000000   \n",
       "75%          4.000000                93.256250       0.000000   \n",
       "max         27.000000              3398.750000      24.000000   \n",
       "\n",
       "       Informational_Duration  ProductRelated  ProductRelated_Duration  \\\n",
       "count            12330.000000    12330.000000             12330.000000   \n",
       "mean                34.472398       31.731468              1194.746220   \n",
       "std                140.749294       44.475503              1913.669288   \n",
       "min                  0.000000        0.000000                 0.000000   \n",
       "25%                  0.000000        7.000000               184.137500   \n",
       "50%                  0.000000       18.000000               598.936905   \n",
       "75%                  0.000000       38.000000              1464.157213   \n",
       "max               2549.375000      705.000000             63973.522230   \n",
       "\n",
       "        BounceRates     ExitRates    PageValues    SpecialDay  \\\n",
       "count  12330.000000  12330.000000  12330.000000  12330.000000   \n",
       "mean       0.022191      0.043073      5.889258      0.061427   \n",
       "std        0.048488      0.048597     18.568437      0.198917   \n",
       "min        0.000000      0.000000      0.000000      0.000000   \n",
       "25%        0.000000      0.014286      0.000000      0.000000   \n",
       "50%        0.003112      0.025156      0.000000      0.000000   \n",
       "75%        0.016813      0.050000      0.000000      0.000000   \n",
       "max        0.200000      0.200000    361.763742      1.000000   \n",
       "\n",
       "       OperatingSystems       Browser        Region   TrafficType  \n",
       "count      12330.000000  12330.000000  12330.000000  12330.000000  \n",
       "mean           2.124006      2.357097      3.147364      4.069586  \n",
       "std            0.911325      1.717277      2.401591      4.025169  \n",
       "min            1.000000      1.000000      1.000000      1.000000  \n",
       "25%            2.000000      2.000000      1.000000      2.000000  \n",
       "50%            2.000000      2.000000      3.000000      2.000000  \n",
       "75%            3.000000      2.000000      4.000000      4.000000  \n",
       "max            8.000000     13.000000      9.000000     20.000000  "
      ]
     },
     "execution_count": 2,
     "metadata": {},
     "output_type": "execute_result"
    }
   ],
   "source": [
    "# 2. Summarize Data #\n",
    "\n",
    "#    a. Descriptive statistics #\n",
    "# Summary\n",
    "dataset.describe() #equivalent to summary in R"
   ]
  },
  {
   "cell_type": "code",
   "execution_count": 3,
   "metadata": {},
   "outputs": [
    {
     "name": "stdout",
     "output_type": "stream",
     "text": [
      "<class 'pandas.core.frame.DataFrame'>\n",
      "RangeIndex: 12330 entries, 0 to 12329\n",
      "Data columns (total 18 columns):\n",
      "Administrative             12330 non-null int64\n",
      "Administrative_Duration    12330 non-null float64\n",
      "Informational              12330 non-null int64\n",
      "Informational_Duration     12330 non-null float64\n",
      "ProductRelated             12330 non-null int64\n",
      "ProductRelated_Duration    12330 non-null float64\n",
      "BounceRates                12330 non-null float64\n",
      "ExitRates                  12330 non-null float64\n",
      "PageValues                 12330 non-null float64\n",
      "SpecialDay                 12330 non-null float64\n",
      "Month                      12330 non-null object\n",
      "OperatingSystems           12330 non-null int64\n",
      "Browser                    12330 non-null int64\n",
      "Region                     12330 non-null int64\n",
      "TrafficType                12330 non-null int64\n",
      "VisitorType                12330 non-null object\n",
      "Weekend                    12330 non-null bool\n",
      "Revenue                    12330 non-null bool\n",
      "dtypes: bool(2), float64(7), int64(7), object(2)\n",
      "memory usage: 1.5+ MB\n"
     ]
    }
   ],
   "source": [
    "# VarType (Pandas version to check)\n",
    "dataset.info()"
   ]
  },
  {
   "cell_type": "code",
   "execution_count": 4,
   "metadata": {},
   "outputs": [
    {
     "name": "stdout",
     "output_type": "stream",
     "text": [
      "Administrative               int64\n",
      "Administrative_Duration    float64\n",
      "Informational                int64\n",
      "Informational_Duration     float64\n",
      "ProductRelated               int64\n",
      "ProductRelated_Duration    float64\n",
      "BounceRates                float64\n",
      "ExitRates                  float64\n",
      "PageValues                 float64\n",
      "SpecialDay                 float64\n",
      "Month                       object\n",
      "OperatingSystems             int64\n",
      "Browser                      int64\n",
      "Region                       int64\n",
      "TrafficType                  int64\n",
      "VisitorType                 object\n",
      "Weekend                       bool\n",
      "Revenue                       bool\n",
      "dtype: object\n"
     ]
    }
   ],
   "source": [
    "# VarType (another Pandas version to check)\n",
    "print(dataset.dtypes)"
   ]
  },
  {
   "cell_type": "code",
   "execution_count": 5,
   "metadata": {},
   "outputs": [
    {
     "data": {
      "text/plain": [
       "False"
      ]
     },
     "execution_count": 5,
     "metadata": {},
     "output_type": "execute_result"
    }
   ],
   "source": [
    "# check if any field include NA value ~\n",
    "dataset.isnull().values.any()"
   ]
  },
  {
   "cell_type": "code",
   "execution_count": 6,
   "metadata": {},
   "outputs": [],
   "source": [
    "# There are many 'bool' and 'object' string values within columns, we need to convert them into integer first here\n",
    "\n",
    "# We first transfer the either 'object' type columns and 'bool' columns into \n",
    "# category value\n",
    "dataset['Month'] = dataset['Month'].astype('category')\n",
    "dataset['VisitorType'] = dataset['VisitorType'].astype('category')\n",
    "dataset['Weekend'] = dataset['Weekend'].astype('category')\n",
    "dataset['Revenue'] = dataset['Revenue'].astype('category')"
   ]
  },
  {
   "cell_type": "code",
   "execution_count": 7,
   "metadata": {},
   "outputs": [
    {
     "name": "stdout",
     "output_type": "stream",
     "text": [
      "Index(['Month', 'VisitorType', 'Weekend', 'Revenue'], dtype='object')\n"
     ]
    }
   ],
   "source": [
    "# Then we selected all above transfered columns\n",
    "cat_columns = dataset.select_dtypes(['category']).columns\n",
    "print(cat_columns)"
   ]
  },
  {
   "cell_type": "code",
   "execution_count": 8,
   "metadata": {},
   "outputs": [
    {
     "name": "stdout",
     "output_type": "stream",
     "text": [
      "       Administrative  Administrative_Duration  Informational  \\\n",
      "0                   0                 0.000000              0   \n",
      "1                   0                 0.000000              0   \n",
      "2                   0                 0.000000              0   \n",
      "3                   0                 0.000000              0   \n",
      "4                   0                 0.000000              0   \n",
      "5                   0                 0.000000              0   \n",
      "6                   0                 0.000000              0   \n",
      "7                   1                 0.000000              0   \n",
      "8                   0                 0.000000              0   \n",
      "9                   0                 0.000000              0   \n",
      "10                  0                 0.000000              0   \n",
      "11                  0                 0.000000              0   \n",
      "12                  0                 0.000000              0   \n",
      "13                  0                 0.000000              0   \n",
      "14                  0                 0.000000              0   \n",
      "15                  2                53.000000              0   \n",
      "16                  0                 0.000000              0   \n",
      "17                  0                 0.000000              0   \n",
      "18                  0                 0.000000              0   \n",
      "19                  0                 0.000000              0   \n",
      "20                  0                 0.000000              0   \n",
      "21                  0                 0.000000              0   \n",
      "22                  0                 0.000000              0   \n",
      "23                  0                 0.000000              0   \n",
      "24                  0                 0.000000              0   \n",
      "25                  0                 0.000000              0   \n",
      "26                  4                64.600000              0   \n",
      "27                  0                 0.000000              0   \n",
      "28                  0                 0.000000              0   \n",
      "29                  1                 6.000000              1   \n",
      "...               ...                      ...            ...   \n",
      "12300               0                 0.000000              0   \n",
      "12301               0                 0.000000              0   \n",
      "12302               0                 0.000000              0   \n",
      "12303               0                 0.000000              0   \n",
      "12304               0                 0.000000              0   \n",
      "12305               0                 0.000000              0   \n",
      "12306               0                 0.000000              0   \n",
      "12307               2               305.125000              3   \n",
      "12308               1                19.000000              0   \n",
      "12309               3                54.000000              0   \n",
      "12310               1                 5.000000              0   \n",
      "12311               1                 0.000000              2   \n",
      "12312               7               150.357143              1   \n",
      "12313               3                16.000000              3   \n",
      "12314               0                 0.000000              0   \n",
      "12315               0                 0.000000              0   \n",
      "12316               0                 0.000000              0   \n",
      "12317               3               100.500000              0   \n",
      "12318               0                 0.000000              0   \n",
      "12319               0                 0.000000              0   \n",
      "12320               0                 0.000000              0   \n",
      "12321               0                 0.000000              0   \n",
      "12322               6                76.250000              0   \n",
      "12323               2                64.750000              0   \n",
      "12324               0                 0.000000              1   \n",
      "12325               3               145.000000              0   \n",
      "12326               0                 0.000000              0   \n",
      "12327               0                 0.000000              0   \n",
      "12328               4                75.000000              0   \n",
      "12329               0                 0.000000              0   \n",
      "\n",
      "       Informational_Duration  ProductRelated  ProductRelated_Duration  \\\n",
      "0                        0.00               1                 0.000000   \n",
      "1                        0.00               2                64.000000   \n",
      "2                        0.00               1                 0.000000   \n",
      "3                        0.00               2                 2.666667   \n",
      "4                        0.00              10               627.500000   \n",
      "5                        0.00              19               154.216667   \n",
      "6                        0.00               1                 0.000000   \n",
      "7                        0.00               0                 0.000000   \n",
      "8                        0.00               2                37.000000   \n",
      "9                        0.00               3               738.000000   \n",
      "10                       0.00               3               395.000000   \n",
      "11                       0.00              16               407.750000   \n",
      "12                       0.00               7               280.500000   \n",
      "13                       0.00               6                98.000000   \n",
      "14                       0.00               2                68.000000   \n",
      "15                       0.00              23              1668.285119   \n",
      "16                       0.00               1                 0.000000   \n",
      "17                       0.00              13               334.966667   \n",
      "18                       0.00               2                32.000000   \n",
      "19                       0.00              20              2981.166667   \n",
      "20                       0.00               8               136.166667   \n",
      "21                       0.00               2                 0.000000   \n",
      "22                       0.00               3               105.000000   \n",
      "23                       0.00               2                15.000000   \n",
      "24                       0.00               1                 0.000000   \n",
      "25                       0.00               5               156.000000   \n",
      "26                       0.00              32              1135.444444   \n",
      "27                       0.00               4                76.000000   \n",
      "28                       0.00               4                63.000000   \n",
      "29                       0.00              45              1582.750000   \n",
      "...                       ...             ...                      ...   \n",
      "12300                    0.00               9               719.583333   \n",
      "12301                    0.00               2                 0.000000   \n",
      "12302                    0.00              22               185.250000   \n",
      "12303                    0.00               3               172.000000   \n",
      "12304                    0.00              30               655.542857   \n",
      "12305                    0.00              39              1168.619841   \n",
      "12306                    0.00              13              1041.750000   \n",
      "12307                  368.25              27              1121.250000   \n",
      "12308                    0.00              45              4018.450000   \n",
      "12309                    0.00              20               262.900000   \n",
      "12310                    0.00              21               411.083333   \n",
      "12311                  211.25             144              4627.489571   \n",
      "12312                    9.00             221             11431.001240   \n",
      "12313                   86.00              15              2773.500000   \n",
      "12314                    0.00               7               705.833333   \n",
      "12315                    0.00               7               212.500000   \n",
      "12316                    0.00              44               615.000000   \n",
      "12317                    0.00              95              1453.640882   \n",
      "12318                    0.00               6               279.000000   \n",
      "12319                    0.00              21              1128.583333   \n",
      "12320                    0.00               8               143.583333   \n",
      "12321                    0.00               6                 0.000000   \n",
      "12322                    0.00              22              1075.250000   \n",
      "12323                    0.00              44              1157.976190   \n",
      "12324                    0.00              16               503.000000   \n",
      "12325                    0.00              53              1783.791667   \n",
      "12326                    0.00               5               465.750000   \n",
      "12327                    0.00               6               184.250000   \n",
      "12328                    0.00              15               346.000000   \n",
      "12329                    0.00               3                21.250000   \n",
      "\n",
      "       BounceRates  ExitRates  PageValues  SpecialDay  Month  \\\n",
      "0         0.200000   0.200000    0.000000         0.0      2   \n",
      "1         0.000000   0.100000    0.000000         0.0      2   \n",
      "2         0.200000   0.200000    0.000000         0.0      2   \n",
      "3         0.050000   0.140000    0.000000         0.0      2   \n",
      "4         0.020000   0.050000    0.000000         0.0      2   \n",
      "5         0.015789   0.024561    0.000000         0.0      2   \n",
      "6         0.200000   0.200000    0.000000         0.4      2   \n",
      "7         0.200000   0.200000    0.000000         0.0      2   \n",
      "8         0.000000   0.100000    0.000000         0.8      2   \n",
      "9         0.000000   0.022222    0.000000         0.4      2   \n",
      "10        0.000000   0.066667    0.000000         0.0      2   \n",
      "11        0.018750   0.025833    0.000000         0.4      2   \n",
      "12        0.000000   0.028571    0.000000         0.0      2   \n",
      "13        0.000000   0.066667    0.000000         0.0      2   \n",
      "14        0.000000   0.100000    0.000000         0.0      2   \n",
      "15        0.008333   0.016313    0.000000         0.0      2   \n",
      "16        0.200000   0.200000    0.000000         0.0      2   \n",
      "17        0.000000   0.007692    0.000000         0.0      2   \n",
      "18        0.000000   0.100000    0.000000         0.0      2   \n",
      "19        0.000000   0.010000    0.000000         0.0      2   \n",
      "20        0.000000   0.008333    0.000000         1.0      2   \n",
      "21        0.200000   0.200000    0.000000         0.0      2   \n",
      "22        0.000000   0.033333    0.000000         0.0      2   \n",
      "23        0.000000   0.100000    0.000000         0.8      2   \n",
      "24        0.200000   0.200000    0.000000         0.0      2   \n",
      "25        0.000000   0.040000    0.000000         0.0      2   \n",
      "26        0.002857   0.009524    0.000000         0.0      2   \n",
      "27        0.050000   0.100000    0.000000         0.0      2   \n",
      "28        0.000000   0.050000    0.000000         0.2      2   \n",
      "29        0.043478   0.050821   54.179764         0.4      2   \n",
      "...            ...        ...         ...         ...    ...   \n",
      "12300     0.022222   0.055556    0.000000         0.0      7   \n",
      "12301     0.200000   0.200000    0.000000         0.0      7   \n",
      "12302     0.021212   0.075758    0.000000         0.0      7   \n",
      "12303     0.000000   0.066667    0.000000         0.0      1   \n",
      "12304     0.006667   0.019667    0.000000         0.0      1   \n",
      "12305     0.000000   0.009064    0.000000         0.0      7   \n",
      "12306     0.018182   0.027273    0.000000         0.0      1   \n",
      "12307     0.020000   0.042857   39.519807         0.0      1   \n",
      "12308     0.009091   0.021970    0.000000         0.0      7   \n",
      "12309     0.008333   0.055556    0.000000         0.0      1   \n",
      "12310     0.015789   0.016140    0.000000         0.0      7   \n",
      "12311     0.001361   0.020664    0.000000         0.0      7   \n",
      "12312     0.011149   0.021904    1.582473         0.0      7   \n",
      "12313     0.000000   0.030000   78.811725         0.0      1   \n",
      "12314     0.028571   0.085714    0.000000         0.0      1   \n",
      "12315     0.000000   0.033333    0.000000         0.0      7   \n",
      "12316     0.013636   0.036364    0.000000         0.0      1   \n",
      "12317     0.002105   0.012761    0.000000         0.0      1   \n",
      "12318     0.000000   0.033333    0.000000         0.0      1   \n",
      "12319     0.000000   0.013043    3.685401         0.0      1   \n",
      "12320     0.014286   0.050000    0.000000         0.0      7   \n",
      "12321     0.200000   0.200000    0.000000         0.0      7   \n",
      "12322     0.000000   0.004167    0.000000         0.0      1   \n",
      "12323     0.000000   0.013953    0.000000         0.0      7   \n",
      "12324     0.000000   0.037647    0.000000         0.0      7   \n",
      "12325     0.007143   0.029031   12.241717         0.0      1   \n",
      "12326     0.000000   0.021333    0.000000         0.0      7   \n",
      "12327     0.083333   0.086667    0.000000         0.0      7   \n",
      "12328     0.000000   0.021053    0.000000         0.0      7   \n",
      "12329     0.000000   0.066667    0.000000         0.0      7   \n",
      "\n",
      "       OperatingSystems  Browser  Region  TrafficType  VisitorType  Weekend  \\\n",
      "0                     1        1       1            1            2        0   \n",
      "1                     2        2       1            2            2        0   \n",
      "2                     4        1       9            3            2        0   \n",
      "3                     3        2       2            4            2        0   \n",
      "4                     3        3       1            4            2        1   \n",
      "5                     2        2       1            3            2        0   \n",
      "6                     2        4       3            3            2        0   \n",
      "7                     1        2       1            5            2        1   \n",
      "8                     2        2       2            3            2        0   \n",
      "9                     2        4       1            2            2        0   \n",
      "10                    1        1       3            3            2        0   \n",
      "11                    1        1       4            3            2        0   \n",
      "12                    1        1       1            3            2        0   \n",
      "13                    2        5       1            3            2        0   \n",
      "14                    3        2       3            3            2        0   \n",
      "15                    1        1       9            3            2        0   \n",
      "16                    1        1       4            3            2        0   \n",
      "17                    1        1       1            4            2        1   \n",
      "18                    2        2       1            3            2        0   \n",
      "19                    2        4       4            4            2        0   \n",
      "20                    2        2       5            1            2        1   \n",
      "21                    3        3       1            3            2        0   \n",
      "22                    3        2       1            5            2        0   \n",
      "23                    2        4       1            3            2        0   \n",
      "24                    2        2       4            1            2        1   \n",
      "25                    1        1       9            3            2        0   \n",
      "26                    2        2       1            3            2        0   \n",
      "27                    1        1       1            3            2        0   \n",
      "28                    2        6       1            3            2        0   \n",
      "29                    3        2       1            1            2        0   \n",
      "...                 ...      ...     ...          ...          ...      ...   \n",
      "12300                 2        4       4            2            2        0   \n",
      "12301                 1        1       4            1            2        0   \n",
      "12302                 2        7       1            1            2        1   \n",
      "12303                 2       13       9           20            2        0   \n",
      "12304                 3        2       1            2            2        1   \n",
      "12305                 1        1       4            3            2        0   \n",
      "12306                 2        2       5            2            2        0   \n",
      "12307                 3        2       1            2            2        0   \n",
      "12308                 2        2       3            1            2        1   \n",
      "12309                 2        2       1            2            2        0   \n",
      "12310                 3        2       7            3            2        0   \n",
      "12311                 2        2       1            2            2        0   \n",
      "12312                 2        5       1            2            2        1   \n",
      "12313                 2        2       1            2            2        0   \n",
      "12314                 5       11       4            1            2        1   \n",
      "12315                 3        2       1           11            2        1   \n",
      "12316                 4        1       3            1            2        0   \n",
      "12317                 2        2       3            2            0        0   \n",
      "12318                 1        2       3           10            2        1   \n",
      "12319                 2        2       1            2            2        0   \n",
      "12320                 2        2       3            1            2        0   \n",
      "12321                 1        8       4            1            2        0   \n",
      "12322                 2        2       4            2            2        0   \n",
      "12323                 2        2       1           10            2        0   \n",
      "12324                 2        2       1            1            2        0   \n",
      "12325                 4        6       1            1            2        1   \n",
      "12326                 3        2       1            8            2        1   \n",
      "12327                 3        2       1           13            2        1   \n",
      "12328                 2        2       3           11            2        0   \n",
      "12329                 3        2       1            2            0        1   \n",
      "\n",
      "       Revenue  \n",
      "0            0  \n",
      "1            0  \n",
      "2            0  \n",
      "3            0  \n",
      "4            0  \n",
      "5            0  \n",
      "6            0  \n",
      "7            0  \n",
      "8            0  \n",
      "9            0  \n",
      "10           0  \n",
      "11           0  \n",
      "12           0  \n",
      "13           0  \n",
      "14           0  \n",
      "15           0  \n",
      "16           0  \n",
      "17           0  \n",
      "18           0  \n",
      "19           0  \n",
      "20           0  \n",
      "21           0  \n",
      "22           0  \n",
      "23           0  \n",
      "24           0  \n",
      "25           0  \n",
      "26           0  \n",
      "27           0  \n",
      "28           0  \n",
      "29           0  \n",
      "...        ...  \n",
      "12300        0  \n",
      "12301        0  \n",
      "12302        0  \n",
      "12303        0  \n",
      "12304        0  \n",
      "12305        0  \n",
      "12306        0  \n",
      "12307        0  \n",
      "12308        0  \n",
      "12309        0  \n",
      "12310        0  \n",
      "12311        1  \n",
      "12312        1  \n",
      "12313        1  \n",
      "12314        0  \n",
      "12315        0  \n",
      "12316        0  \n",
      "12317        0  \n",
      "12318        0  \n",
      "12319        0  \n",
      "12320        0  \n",
      "12321        0  \n",
      "12322        0  \n",
      "12323        0  \n",
      "12324        0  \n",
      "12325        0  \n",
      "12326        0  \n",
      "12327        0  \n",
      "12328        0  \n",
      "12329        0  \n",
      "\n",
      "[12330 rows x 18 columns]\n"
     ]
    }
   ],
   "source": [
    "# Then we transfer all those category value into integer like below command\n",
    "dataset[cat_columns] = dataset[cat_columns].apply(lambda x: x.cat.codes)\n",
    "print(dataset)"
   ]
  },
  {
   "cell_type": "code",
   "execution_count": 9,
   "metadata": {},
   "outputs": [
    {
     "data": {
      "image/png": "[encoded data removed]",
      "text/plain": [
       "<Figure size 288x288 with 1 Axes>"
      ]
     },
     "metadata": {
      "needs_background": "light"
     },
     "output_type": "display_data"
    }
   ],
   "source": [
    "# Corr Matrix\n",
    "\n",
    "#Simple version of the corr matrix\n",
    "plt.matshow(dataset.corr())\n",
    "plt.show()"
   ]
  },
  {
   "cell_type": "code",
   "execution_count": 10,
   "metadata": {},
   "outputs": [
    {
     "data": {
      "image/png": "[encoded data removed]",
      "text/plain": [
       "<Figure size 1368x1080 with 2 Axes>"
      ]
     },
     "metadata": {
      "needs_background": "light"
     },
     "output_type": "display_data"
    }
   ],
   "source": [
    "# Another version of the advanced version of corr matrix visulization.\n",
    "\n",
    "f = plt.figure(figsize=(19, 15))\n",
    "plt.matshow(dataset.corr(), fignum=f.number)\n",
    "plt.xticks(range(dataset.shape[1]), dataset.columns, fontsize=14, rotation=45)\n",
    "plt.yticks(range(dataset.shape[1]), dataset.columns, fontsize=14)\n",
    "cb = plt.colorbar()\n",
    "cb.ax.tick_params(labelsize=14)\n",
    "plt.title('Correlation Matrix', fontsize=16);"
   ]
  },
  {
   "cell_type": "code",
   "execution_count": 11,
   "metadata": {},
   "outputs": [
    {
     "data": {
      "text/html": [
       "<style  type=\"text/css\" >\n",
       "    #T_561524fa_fe04_11e9_b617_acde48001122row0_col0 {\n",
       "            background-color:  #b40426;\n",
       "            color:  #f1f1f1;\n",
       "        }    #T_561524fa_fe04_11e9_b617_acde48001122row0_col1 {\n",
       "            background-color:  #f7b79b;\n",
       "            color:  #000000;\n",
       "        }    #T_561524fa_fe04_11e9_b617_acde48001122row0_col2 {\n",
       "            background-color:  #d3dbe7;\n",
       "            color:  #000000;\n",
       "        }    #T_561524fa_fe04_11e9_b617_acde48001122row0_col3 {\n",
       "            background-color:  #a7c5fe;\n",
       "            color:  #000000;\n",
       "        }    #T_561524fa_fe04_11e9_b617_acde48001122row0_col4 {\n",
       "            background-color:  #ebd3c6;\n",
       "            color:  #000000;\n",
       "        }    #T_561524fa_fe04_11e9_b617_acde48001122row0_col5 {\n",
       "            background-color:  #dcdddd;\n",
       "            color:  #000000;\n",
       "        }    #T_561524fa_fe04_11e9_b617_acde48001122row0_col6 {\n",
       "            background-color:  #3b4cc0;\n",
       "            color:  #f1f1f1;\n",
       "        }    #T_561524fa_fe04_11e9_b617_acde48001122row0_col7 {\n",
       "            background-color:  #3b4cc0;\n",
       "            color:  #f1f1f1;\n",
       "        }    #T_561524fa_fe04_11e9_b617_acde48001122row0_col8 {\n",
       "            background-color:  #86a9fc;\n",
       "            color:  #000000;\n",
       "        }    #T_561524fa_fe04_11e9_b617_acde48001122row0_col9 {\n",
       "            background-color:  #3b4cc0;\n",
       "            color:  #f1f1f1;\n",
       "        }    #T_561524fa_fe04_11e9_b617_acde48001122row0_col10 {\n",
       "            background-color:  #5673e0;\n",
       "            color:  #000000;\n",
       "        }    #T_561524fa_fe04_11e9_b617_acde48001122row0_col11 {\n",
       "            background-color:  #4055c8;\n",
       "            color:  #f1f1f1;\n",
       "        }    #T_561524fa_fe04_11e9_b617_acde48001122row0_col12 {\n",
       "            background-color:  #4055c8;\n",
       "            color:  #f1f1f1;\n",
       "        }    #T_561524fa_fe04_11e9_b617_acde48001122row0_col13 {\n",
       "            background-color:  #445acc;\n",
       "            color:  #f1f1f1;\n",
       "        }    #T_561524fa_fe04_11e9_b617_acde48001122row0_col14 {\n",
       "            background-color:  #3d50c3;\n",
       "            color:  #f1f1f1;\n",
       "        }    #T_561524fa_fe04_11e9_b617_acde48001122row0_col15 {\n",
       "            background-color:  #516ddb;\n",
       "            color:  #000000;\n",
       "        }    #T_561524fa_fe04_11e9_b617_acde48001122row0_col16 {\n",
       "            background-color:  #5470de;\n",
       "            color:  #000000;\n",
       "        }    #T_561524fa_fe04_11e9_b617_acde48001122row0_col17 {\n",
       "            background-color:  #9abbff;\n",
       "            color:  #000000;\n",
       "        }    #T_561524fa_fe04_11e9_b617_acde48001122row1_col0 {\n",
       "            background-color:  #f7ad90;\n",
       "            color:  #000000;\n",
       "        }    #T_561524fa_fe04_11e9_b617_acde48001122row1_col1 {\n",
       "            background-color:  #b40426;\n",
       "            color:  #f1f1f1;\n",
       "        }    #T_561524fa_fe04_11e9_b617_acde48001122row1_col2 {\n",
       "            background-color:  #c0d4f5;\n",
       "            color:  #000000;\n",
       "        }    #T_561524fa_fe04_11e9_b617_acde48001122row1_col3 {\n",
       "            background-color:  #a2c1ff;\n",
       "            color:  #000000;\n",
       "        }    #T_561524fa_fe04_11e9_b617_acde48001122row1_col4 {\n",
       "            background-color:  #cfdaea;\n",
       "            color:  #000000;\n",
       "        }    #T_561524fa_fe04_11e9_b617_acde48001122row1_col5 {\n",
       "            background-color:  #d9dce1;\n",
       "            color:  #000000;\n",
       "        }    #T_561524fa_fe04_11e9_b617_acde48001122row1_col6 {\n",
       "            background-color:  #4e68d8;\n",
       "            color:  #000000;\n",
       "        }    #T_561524fa_fe04_11e9_b617_acde48001122row1_col7 {\n",
       "            background-color:  #5470de;\n",
       "            color:  #000000;\n",
       "        }    #T_561524fa_fe04_11e9_b617_acde48001122row1_col8 {\n",
       "            background-color:  #7da0f9;\n",
       "            color:  #000000;\n",
       "        }    #T_561524fa_fe04_11e9_b617_acde48001122row1_col9 {\n",
       "            background-color:  #4055c8;\n",
       "            color:  #f1f1f1;\n",
       "        }    #T_561524fa_fe04_11e9_b617_acde48001122row1_col10 {\n",
       "            background-color:  #506bda;\n",
       "            color:  #000000;\n",
       "        }    #T_561524fa_fe04_11e9_b617_acde48001122row1_col11 {\n",
       "            background-color:  #4055c8;\n",
       "            color:  #f1f1f1;\n",
       "        }    #T_561524fa_fe04_11e9_b617_acde48001122row1_col12 {\n",
       "            background-color:  #4358cb;\n",
       "            color:  #f1f1f1;\n",
       "        }    #T_561524fa_fe04_11e9_b617_acde48001122row1_col13 {\n",
       "            background-color:  #445acc;\n",
       "            color:  #f1f1f1;\n",
       "        }    #T_561524fa_fe04_11e9_b617_acde48001122row1_col14 {\n",
       "            background-color:  #4358cb;\n",
       "            color:  #f1f1f1;\n",
       "        }    #T_561524fa_fe04_11e9_b617_acde48001122row1_col15 {\n",
       "            background-color:  #536edd;\n",
       "            color:  #000000;\n",
       "        }    #T_561524fa_fe04_11e9_b617_acde48001122row1_col16 {\n",
       "            background-color:  #506bda;\n",
       "            color:  #000000;\n",
       "        }    #T_561524fa_fe04_11e9_b617_acde48001122row1_col17 {\n",
       "            background-color:  #8caffe;\n",
       "            color:  #000000;\n",
       "        }    #T_561524fa_fe04_11e9_b617_acde48001122row2_col0 {\n",
       "            background-color:  #e3d9d3;\n",
       "            color:  #000000;\n",
       "        }    #T_561524fa_fe04_11e9_b617_acde48001122row2_col1 {\n",
       "            background-color:  #c6d6f1;\n",
       "            color:  #000000;\n",
       "        }    #T_561524fa_fe04_11e9_b617_acde48001122row2_col2 {\n",
       "            background-color:  #b40426;\n",
       "            color:  #f1f1f1;\n",
       "        }    #T_561524fa_fe04_11e9_b617_acde48001122row2_col3 {\n",
       "            background-color:  #f7bca1;\n",
       "            color:  #000000;\n",
       "        }    #T_561524fa_fe04_11e9_b617_acde48001122row2_col4 {\n",
       "            background-color:  #e1dad6;\n",
       "            color:  #000000;\n",
       "        }    #T_561524fa_fe04_11e9_b617_acde48001122row2_col5 {\n",
       "            background-color:  #dfdbd9;\n",
       "            color:  #000000;\n",
       "        }    #T_561524fa_fe04_11e9_b617_acde48001122row2_col6 {\n",
       "            background-color:  #5572df;\n",
       "            color:  #000000;\n",
       "        }    #T_561524fa_fe04_11e9_b617_acde48001122row2_col7 {\n",
       "            background-color:  #5e7de7;\n",
       "            color:  #000000;\n",
       "        }    #T_561524fa_fe04_11e9_b617_acde48001122row2_col8 {\n",
       "            background-color:  #779af7;\n",
       "            color:  #000000;\n",
       "        }    #T_561524fa_fe04_11e9_b617_acde48001122row2_col9 {\n",
       "            background-color:  #465ecf;\n",
       "            color:  #f1f1f1;\n",
       "        }    #T_561524fa_fe04_11e9_b617_acde48001122row2_col10 {\n",
       "            background-color:  #4e68d8;\n",
       "            color:  #000000;\n",
       "        }    #T_561524fa_fe04_11e9_b617_acde48001122row2_col11 {\n",
       "            background-color:  #3f53c6;\n",
       "            color:  #f1f1f1;\n",
       "        }    #T_561524fa_fe04_11e9_b617_acde48001122row2_col12 {\n",
       "            background-color:  #3c4ec2;\n",
       "            color:  #f1f1f1;\n",
       "        }    #T_561524fa_fe04_11e9_b617_acde48001122row2_col13 {\n",
       "            background-color:  #3d50c3;\n",
       "            color:  #f1f1f1;\n",
       "        }    #T_561524fa_fe04_11e9_b617_acde48001122row2_col14 {\n",
       "            background-color:  #3d50c3;\n",
       "            color:  #f1f1f1;\n",
       "        }    #T_561524fa_fe04_11e9_b617_acde48001122row2_col15 {\n",
       "            background-color:  #6a8bef;\n",
       "            color:  #000000;\n",
       "        }    #T_561524fa_fe04_11e9_b617_acde48001122row2_col16 {\n",
       "            background-color:  #5673e0;\n",
       "            color:  #000000;\n",
       "        }    #T_561524fa_fe04_11e9_b617_acde48001122row2_col17 {\n",
       "            background-color:  #8db0fe;\n",
       "            color:  #000000;\n",
       "        }    #T_561524fa_fe04_11e9_b617_acde48001122row3_col0 {\n",
       "            background-color:  #cbd8ee;\n",
       "            color:  #000000;\n",
       "        }    #T_561524fa_fe04_11e9_b617_acde48001122row3_col1 {\n",
       "            background-color:  #b6cefa;\n",
       "            color:  #000000;\n",
       "        }    #T_561524fa_fe04_11e9_b617_acde48001122row3_col2 {\n",
       "            background-color:  #f7b599;\n",
       "            color:  #000000;\n",
       "        }    #T_561524fa_fe04_11e9_b617_acde48001122row3_col3 {\n",
       "            background-color:  #b40426;\n",
       "            color:  #f1f1f1;\n",
       "        }    #T_561524fa_fe04_11e9_b617_acde48001122row3_col4 {\n",
       "            background-color:  #cdd9ec;\n",
       "            color:  #000000;\n",
       "        }    #T_561524fa_fe04_11e9_b617_acde48001122row3_col5 {\n",
       "            background-color:  #d7dce3;\n",
       "            color:  #000000;\n",
       "        }    #T_561524fa_fe04_11e9_b617_acde48001122row3_col6 {\n",
       "            background-color:  #6180e9;\n",
       "            color:  #000000;\n",
       "        }    #T_561524fa_fe04_11e9_b617_acde48001122row3_col7 {\n",
       "            background-color:  #6e90f2;\n",
       "            color:  #000000;\n",
       "        }    #T_561524fa_fe04_11e9_b617_acde48001122row3_col8 {\n",
       "            background-color:  #7295f4;\n",
       "            color:  #000000;\n",
       "        }    #T_561524fa_fe04_11e9_b617_acde48001122row3_col9 {\n",
       "            background-color:  #4c66d6;\n",
       "            color:  #000000;\n",
       "        }    #T_561524fa_fe04_11e9_b617_acde48001122row3_col10 {\n",
       "            background-color:  #4961d2;\n",
       "            color:  #f1f1f1;\n",
       "        }    #T_561524fa_fe04_11e9_b617_acde48001122row3_col11 {\n",
       "            background-color:  #3f53c6;\n",
       "            color:  #f1f1f1;\n",
       "        }    #T_561524fa_fe04_11e9_b617_acde48001122row3_col12 {\n",
       "            background-color:  #4257c9;\n",
       "            color:  #f1f1f1;\n",
       "        }    #T_561524fa_fe04_11e9_b617_acde48001122row3_col13 {\n",
       "            background-color:  #3d50c3;\n",
       "            color:  #f1f1f1;\n",
       "        }    #T_561524fa_fe04_11e9_b617_acde48001122row3_col14 {\n",
       "            background-color:  #3f53c6;\n",
       "            color:  #f1f1f1;\n",
       "        }    #T_561524fa_fe04_11e9_b617_acde48001122row3_col15 {\n",
       "            background-color:  #6687ed;\n",
       "            color:  #000000;\n",
       "        }    #T_561524fa_fe04_11e9_b617_acde48001122row3_col16 {\n",
       "            background-color:  #536edd;\n",
       "            color:  #000000;\n",
       "        }    #T_561524fa_fe04_11e9_b617_acde48001122row3_col17 {\n",
       "            background-color:  #85a8fc;\n",
       "            color:  #000000;\n",
       "        }    #T_561524fa_fe04_11e9_b617_acde48001122row4_col0 {\n",
       "            background-color:  #edd2c3;\n",
       "            color:  #000000;\n",
       "        }    #T_561524fa_fe04_11e9_b617_acde48001122row4_col1 {\n",
       "            background-color:  #c4d5f3;\n",
       "            color:  #000000;\n",
       "        }    #T_561524fa_fe04_11e9_b617_acde48001122row4_col2 {\n",
       "            background-color:  #d3dbe7;\n",
       "            color:  #000000;\n",
       "        }    #T_561524fa_fe04_11e9_b617_acde48001122row4_col3 {\n",
       "            background-color:  #afcafc;\n",
       "            color:  #000000;\n",
       "        }    #T_561524fa_fe04_11e9_b617_acde48001122row4_col4 {\n",
       "            background-color:  #b40426;\n",
       "            color:  #f1f1f1;\n",
       "        }    #T_561524fa_fe04_11e9_b617_acde48001122row4_col5 {\n",
       "            background-color:  #d95847;\n",
       "            color:  #000000;\n",
       "        }    #T_561524fa_fe04_11e9_b617_acde48001122row4_col6 {\n",
       "            background-color:  #3e51c5;\n",
       "            color:  #f1f1f1;\n",
       "        }    #T_561524fa_fe04_11e9_b617_acde48001122row4_col7 {\n",
       "            background-color:  #3f53c6;\n",
       "            color:  #f1f1f1;\n",
       "        }    #T_561524fa_fe04_11e9_b617_acde48001122row4_col8 {\n",
       "            background-color:  #7a9df8;\n",
       "            color:  #000000;\n",
       "        }    #T_561524fa_fe04_11e9_b617_acde48001122row4_col9 {\n",
       "            background-color:  #4e68d8;\n",
       "            color:  #000000;\n",
       "        }    #T_561524fa_fe04_11e9_b617_acde48001122row4_col10 {\n",
       "            background-color:  #5d7ce6;\n",
       "            color:  #000000;\n",
       "        }    #T_561524fa_fe04_11e9_b617_acde48001122row4_col11 {\n",
       "            background-color:  #445acc;\n",
       "            color:  #f1f1f1;\n",
       "        }    #T_561524fa_fe04_11e9_b617_acde48001122row4_col12 {\n",
       "            background-color:  #445acc;\n",
       "            color:  #f1f1f1;\n",
       "        }    #T_561524fa_fe04_11e9_b617_acde48001122row4_col13 {\n",
       "            background-color:  #3b4cc0;\n",
       "            color:  #f1f1f1;\n",
       "        }    #T_561524fa_fe04_11e9_b617_acde48001122row4_col14 {\n",
       "            background-color:  #3b4cc0;\n",
       "            color:  #f1f1f1;\n",
       "        }    #T_561524fa_fe04_11e9_b617_acde48001122row4_col15 {\n",
       "            background-color:  #80a3fa;\n",
       "            color:  #000000;\n",
       "        }    #T_561524fa_fe04_11e9_b617_acde48001122row4_col16 {\n",
       "            background-color:  #506bda;\n",
       "            color:  #000000;\n",
       "        }    #T_561524fa_fe04_11e9_b617_acde48001122row4_col17 {\n",
       "            background-color:  #9fbfff;\n",
       "            color:  #000000;\n",
       "        }    #T_561524fa_fe04_11e9_b617_acde48001122row5_col0 {\n",
       "            background-color:  #e3d9d3;\n",
       "            color:  #000000;\n",
       "        }    #T_561524fa_fe04_11e9_b617_acde48001122row5_col1 {\n",
       "            background-color:  #d4dbe6;\n",
       "            color:  #000000;\n",
       "        }    #T_561524fa_fe04_11e9_b617_acde48001122row5_col2 {\n",
       "            background-color:  #d6dce4;\n",
       "            color:  #000000;\n",
       "        }    #T_561524fa_fe04_11e9_b617_acde48001122row5_col3 {\n",
       "            background-color:  #c3d5f4;\n",
       "            color:  #000000;\n",
       "        }    #T_561524fa_fe04_11e9_b617_acde48001122row5_col4 {\n",
       "            background-color:  #d85646;\n",
       "            color:  #000000;\n",
       "        }    #T_561524fa_fe04_11e9_b617_acde48001122row5_col5 {\n",
       "            background-color:  #b40426;\n",
       "            color:  #f1f1f1;\n",
       "        }    #T_561524fa_fe04_11e9_b617_acde48001122row5_col6 {\n",
       "            background-color:  #445acc;\n",
       "            color:  #f1f1f1;\n",
       "        }    #T_561524fa_fe04_11e9_b617_acde48001122row5_col7 {\n",
       "            background-color:  #4961d2;\n",
       "            color:  #f1f1f1;\n",
       "        }    #T_561524fa_fe04_11e9_b617_acde48001122row5_col8 {\n",
       "            background-color:  #799cf8;\n",
       "            color:  #000000;\n",
       "        }    #T_561524fa_fe04_11e9_b617_acde48001122row5_col9 {\n",
       "            background-color:  #4a63d3;\n",
       "            color:  #f1f1f1;\n",
       "        }    #T_561524fa_fe04_11e9_b617_acde48001122row5_col10 {\n",
       "            background-color:  #5a78e4;\n",
       "            color:  #000000;\n",
       "        }    #T_561524fa_fe04_11e9_b617_acde48001122row5_col11 {\n",
       "            background-color:  #445acc;\n",
       "            color:  #f1f1f1;\n",
       "        }    #T_561524fa_fe04_11e9_b617_acde48001122row5_col12 {\n",
       "            background-color:  #455cce;\n",
       "            color:  #f1f1f1;\n",
       "        }    #T_561524fa_fe04_11e9_b617_acde48001122row5_col13 {\n",
       "            background-color:  #3c4ec2;\n",
       "            color:  #f1f1f1;\n",
       "        }    #T_561524fa_fe04_11e9_b617_acde48001122row5_col14 {\n",
       "            background-color:  #3c4ec2;\n",
       "            color:  #f1f1f1;\n",
       "        }    #T_561524fa_fe04_11e9_b617_acde48001122row5_col15 {\n",
       "            background-color:  #7ea1fa;\n",
       "            color:  #000000;\n",
       "        }    #T_561524fa_fe04_11e9_b617_acde48001122row5_col16 {\n",
       "            background-color:  #4e68d8;\n",
       "            color:  #000000;\n",
       "        }    #T_561524fa_fe04_11e9_b617_acde48001122row5_col17 {\n",
       "            background-color:  #9ebeff;\n",
       "            color:  #000000;\n",
       "        }    #T_561524fa_fe04_11e9_b617_acde48001122row6_col0 {\n",
       "            background-color:  #506bda;\n",
       "            color:  #000000;\n",
       "        }    #T_561524fa_fe04_11e9_b617_acde48001122row6_col1 {\n",
       "            background-color:  #4a63d3;\n",
       "            color:  #f1f1f1;\n",
       "        }    #T_561524fa_fe04_11e9_b617_acde48001122row6_col2 {\n",
       "            background-color:  #465ecf;\n",
       "            color:  #f1f1f1;\n",
       "        }    #T_561524fa_fe04_11e9_b617_acde48001122row6_col3 {\n",
       "            background-color:  #4358cb;\n",
       "            color:  #f1f1f1;\n",
       "        }    #T_561524fa_fe04_11e9_b617_acde48001122row6_col4 {\n",
       "            background-color:  #4f69d9;\n",
       "            color:  #000000;\n",
       "        }    #T_561524fa_fe04_11e9_b617_acde48001122row6_col5 {\n",
       "            background-color:  #4a63d3;\n",
       "            color:  #f1f1f1;\n",
       "        }    #T_561524fa_fe04_11e9_b617_acde48001122row6_col6 {\n",
       "            background-color:  #b40426;\n",
       "            color:  #f1f1f1;\n",
       "        }    #T_561524fa_fe04_11e9_b617_acde48001122row6_col7 {\n",
       "            background-color:  #cb3e38;\n",
       "            color:  #f1f1f1;\n",
       "        }    #T_561524fa_fe04_11e9_b617_acde48001122row6_col8 {\n",
       "            background-color:  #4961d2;\n",
       "            color:  #f1f1f1;\n",
       "        }    #T_561524fa_fe04_11e9_b617_acde48001122row6_col9 {\n",
       "            background-color:  #6b8df0;\n",
       "            color:  #000000;\n",
       "        }    #T_561524fa_fe04_11e9_b617_acde48001122row6_col10 {\n",
       "            background-color:  #4055c8;\n",
       "            color:  #f1f1f1;\n",
       "        }    #T_561524fa_fe04_11e9_b617_acde48001122row6_col11 {\n",
       "            background-color:  #4a63d3;\n",
       "            color:  #f1f1f1;\n",
       "        }    #T_561524fa_fe04_11e9_b617_acde48001122row6_col12 {\n",
       "            background-color:  #4358cb;\n",
       "            color:  #f1f1f1;\n",
       "        }    #T_561524fa_fe04_11e9_b617_acde48001122row6_col13 {\n",
       "            background-color:  #4358cb;\n",
       "            color:  #f1f1f1;\n",
       "        }    #T_561524fa_fe04_11e9_b617_acde48001122row6_col14 {\n",
       "            background-color:  #5e7de7;\n",
       "            color:  #000000;\n",
       "        }    #T_561524fa_fe04_11e9_b617_acde48001122row6_col15 {\n",
       "            background-color:  #82a6fb;\n",
       "            color:  #000000;\n",
       "        }    #T_561524fa_fe04_11e9_b617_acde48001122row6_col16 {\n",
       "            background-color:  #3e51c5;\n",
       "            color:  #f1f1f1;\n",
       "        }    #T_561524fa_fe04_11e9_b617_acde48001122row6_col17 {\n",
       "            background-color:  #485fd1;\n",
       "            color:  #f1f1f1;\n",
       "        }    #T_561524fa_fe04_11e9_b617_acde48001122row7_col0 {\n",
       "            background-color:  #3b4cc0;\n",
       "            color:  #f1f1f1;\n",
       "        }    #T_561524fa_fe04_11e9_b617_acde48001122row7_col1 {\n",
       "            background-color:  #3b4cc0;\n",
       "            color:  #f1f1f1;\n",
       "        }    #T_561524fa_fe04_11e9_b617_acde48001122row7_col2 {\n",
       "            background-color:  #3b4cc0;\n",
       "            color:  #f1f1f1;\n",
       "        }    #T_561524fa_fe04_11e9_b617_acde48001122row7_col3 {\n",
       "            background-color:  #3b4cc0;\n",
       "            color:  #f1f1f1;\n",
       "        }    #T_561524fa_fe04_11e9_b617_acde48001122row7_col4 {\n",
       "            background-color:  #3b4cc0;\n",
       "            color:  #f1f1f1;\n",
       "        }    #T_561524fa_fe04_11e9_b617_acde48001122row7_col5 {\n",
       "            background-color:  #3b4cc0;\n",
       "            color:  #f1f1f1;\n",
       "        }    #T_561524fa_fe04_11e9_b617_acde48001122row7_col6 {\n",
       "            background-color:  #cd423b;\n",
       "            color:  #f1f1f1;\n",
       "        }    #T_561524fa_fe04_11e9_b617_acde48001122row7_col7 {\n",
       "            background-color:  #b40426;\n",
       "            color:  #f1f1f1;\n",
       "        }    #T_561524fa_fe04_11e9_b617_acde48001122row7_col8 {\n",
       "            background-color:  #3b4cc0;\n",
       "            color:  #f1f1f1;\n",
       "        }    #T_561524fa_fe04_11e9_b617_acde48001122row7_col9 {\n",
       "            background-color:  #7597f6;\n",
       "            color:  #000000;\n",
       "        }    #T_561524fa_fe04_11e9_b617_acde48001122row7_col10 {\n",
       "            background-color:  #3c4ec2;\n",
       "            color:  #f1f1f1;\n",
       "        }    #T_561524fa_fe04_11e9_b617_acde48001122row7_col11 {\n",
       "            background-color:  #465ecf;\n",
       "            color:  #f1f1f1;\n",
       "        }    #T_561524fa_fe04_11e9_b617_acde48001122row7_col12 {\n",
       "            background-color:  #465ecf;\n",
       "            color:  #f1f1f1;\n",
       "        }    #T_561524fa_fe04_11e9_b617_acde48001122row7_col13 {\n",
       "            background-color:  #4358cb;\n",
       "            color:  #f1f1f1;\n",
       "        }    #T_561524fa_fe04_11e9_b617_acde48001122row7_col14 {\n",
       "            background-color:  #5e7de7;\n",
       "            color:  #000000;\n",
       "        }    #T_561524fa_fe04_11e9_b617_acde48001122row7_col15 {\n",
       "            background-color:  #90b2fe;\n",
       "            color:  #000000;\n",
       "        }    #T_561524fa_fe04_11e9_b617_acde48001122row7_col16 {\n",
       "            background-color:  #3b4cc0;\n",
       "            color:  #f1f1f1;\n",
       "        }    #T_561524fa_fe04_11e9_b617_acde48001122row7_col17 {\n",
       "            background-color:  #3b4cc0;\n",
       "            color:  #f1f1f1;\n",
       "        }    #T_561524fa_fe04_11e9_b617_acde48001122row8_col0 {\n",
       "            background-color:  #a3c2fe;\n",
       "            color:  #000000;\n",
       "        }    #T_561524fa_fe04_11e9_b617_acde48001122row8_col1 {\n",
       "            background-color:  #85a8fc;\n",
       "            color:  #000000;\n",
       "        }    #T_561524fa_fe04_11e9_b617_acde48001122row8_col2 {\n",
       "            background-color:  #7597f6;\n",
       "            color:  #000000;\n",
       "        }    #T_561524fa_fe04_11e9_b617_acde48001122row8_col3 {\n",
       "            background-color:  #6180e9;\n",
       "            color:  #000000;\n",
       "        }    #T_561524fa_fe04_11e9_b617_acde48001122row8_col4 {\n",
       "            background-color:  #94b6ff;\n",
       "            color:  #000000;\n",
       "        }    #T_561524fa_fe04_11e9_b617_acde48001122row8_col5 {\n",
       "            background-color:  #8badfd;\n",
       "            color:  #000000;\n",
       "        }    #T_561524fa_fe04_11e9_b617_acde48001122row8_col6 {\n",
       "            background-color:  #5470de;\n",
       "            color:  #000000;\n",
       "        }    #T_561524fa_fe04_11e9_b617_acde48001122row8_col7 {\n",
       "            background-color:  #5b7ae5;\n",
       "            color:  #000000;\n",
       "        }    #T_561524fa_fe04_11e9_b617_acde48001122row8_col8 {\n",
       "            background-color:  #b40426;\n",
       "            color:  #f1f1f1;\n",
       "        }    #T_561524fa_fe04_11e9_b617_acde48001122row8_col9 {\n",
       "            background-color:  #4358cb;\n",
       "            color:  #f1f1f1;\n",
       "        }    #T_561524fa_fe04_11e9_b617_acde48001122row8_col10 {\n",
       "            background-color:  #4e68d8;\n",
       "            color:  #000000;\n",
       "        }    #T_561524fa_fe04_11e9_b617_acde48001122row8_col11 {\n",
       "            background-color:  #485fd1;\n",
       "            color:  #f1f1f1;\n",
       "        }    #T_561524fa_fe04_11e9_b617_acde48001122row8_col12 {\n",
       "            background-color:  #5572df;\n",
       "            color:  #000000;\n",
       "        }    #T_561524fa_fe04_11e9_b617_acde48001122row8_col13 {\n",
       "            background-color:  #4961d2;\n",
       "            color:  #f1f1f1;\n",
       "        }    #T_561524fa_fe04_11e9_b617_acde48001122row8_col14 {\n",
       "            background-color:  #4a63d3;\n",
       "            color:  #f1f1f1;\n",
       "        }    #T_561524fa_fe04_11e9_b617_acde48001122row8_col15 {\n",
       "            background-color:  #3b4cc0;\n",
       "            color:  #f1f1f1;\n",
       "        }    #T_561524fa_fe04_11e9_b617_acde48001122row8_col16 {\n",
       "            background-color:  #4f69d9;\n",
       "            color:  #000000;\n",
       "        }    #T_561524fa_fe04_11e9_b617_acde48001122row8_col17 {\n",
       "            background-color:  #efcfbf;\n",
       "            color:  #000000;\n",
       "        }    #T_561524fa_fe04_11e9_b617_acde48001122row9_col0 {\n",
       "            background-color:  #7093f3;\n",
       "            color:  #000000;\n",
       "        }    #T_561524fa_fe04_11e9_b617_acde48001122row9_col1 {\n",
       "            background-color:  #5d7ce6;\n",
       "            color:  #000000;\n",
       "        }    #T_561524fa_fe04_11e9_b617_acde48001122row9_col2 {\n",
       "            background-color:  #5977e3;\n",
       "            color:  #000000;\n",
       "        }    #T_561524fa_fe04_11e9_b617_acde48001122row9_col3 {\n",
       "            background-color:  #4f69d9;\n",
       "            color:  #000000;\n",
       "        }    #T_561524fa_fe04_11e9_b617_acde48001122row9_col4 {\n",
       "            background-color:  #7ea1fa;\n",
       "            color:  #000000;\n",
       "        }    #T_561524fa_fe04_11e9_b617_acde48001122row9_col5 {\n",
       "            background-color:  #7295f4;\n",
       "            color:  #000000;\n",
       "        }    #T_561524fa_fe04_11e9_b617_acde48001122row9_col6 {\n",
       "            background-color:  #89acfd;\n",
       "            color:  #000000;\n",
       "        }    #T_561524fa_fe04_11e9_b617_acde48001122row9_col7 {\n",
       "            background-color:  #a5c3fe;\n",
       "            color:  #000000;\n",
       "        }    #T_561524fa_fe04_11e9_b617_acde48001122row9_col8 {\n",
       "            background-color:  #5875e1;\n",
       "            color:  #000000;\n",
       "        }    #T_561524fa_fe04_11e9_b617_acde48001122row9_col9 {\n",
       "            background-color:  #b40426;\n",
       "            color:  #f1f1f1;\n",
       "        }    #T_561524fa_fe04_11e9_b617_acde48001122row9_col10 {\n",
       "            background-color:  #5f7fe8;\n",
       "            color:  #000000;\n",
       "        }    #T_561524fa_fe04_11e9_b617_acde48001122row9_col11 {\n",
       "            background-color:  #465ecf;\n",
       "            color:  #f1f1f1;\n",
       "        }    #T_561524fa_fe04_11e9_b617_acde48001122row9_col12 {\n",
       "            background-color:  #4961d2;\n",
       "            color:  #f1f1f1;\n",
       "        }    #T_561524fa_fe04_11e9_b617_acde48001122row9_col13 {\n",
       "            background-color:  #4055c8;\n",
       "            color:  #f1f1f1;\n",
       "        }    #T_561524fa_fe04_11e9_b617_acde48001122row9_col14 {\n",
       "            background-color:  #5673e0;\n",
       "            color:  #000000;\n",
       "        }    #T_561524fa_fe04_11e9_b617_acde48001122row9_col15 {\n",
       "            background-color:  #7396f5;\n",
       "            color:  #000000;\n",
       "        }    #T_561524fa_fe04_11e9_b617_acde48001122row9_col16 {\n",
       "            background-color:  #485fd1;\n",
       "            color:  #f1f1f1;\n",
       "        }    #T_561524fa_fe04_11e9_b617_acde48001122row9_col17 {\n",
       "            background-color:  #5a78e4;\n",
       "            color:  #000000;\n",
       "        }    #T_561524fa_fe04_11e9_b617_acde48001122row10_col0 {\n",
       "            background-color:  #96b7ff;\n",
       "            color:  #000000;\n",
       "        }    #T_561524fa_fe04_11e9_b617_acde48001122row10_col1 {\n",
       "            background-color:  #799cf8;\n",
       "            color:  #000000;\n",
       "        }    #T_561524fa_fe04_11e9_b617_acde48001122row10_col2 {\n",
       "            background-color:  #6c8ff1;\n",
       "            color:  #000000;\n",
       "        }    #T_561524fa_fe04_11e9_b617_acde48001122row10_col3 {\n",
       "            background-color:  #5977e3;\n",
       "            color:  #000000;\n",
       "        }    #T_561524fa_fe04_11e9_b617_acde48001122row10_col4 {\n",
       "            background-color:  #97b8ff;\n",
       "            color:  #000000;\n",
       "        }    #T_561524fa_fe04_11e9_b617_acde48001122row10_col5 {\n",
       "            background-color:  #8db0fe;\n",
       "            color:  #000000;\n",
       "        }    #T_561524fa_fe04_11e9_b617_acde48001122row10_col6 {\n",
       "            background-color:  #6e90f2;\n",
       "            color:  #000000;\n",
       "        }    #T_561524fa_fe04_11e9_b617_acde48001122row10_col7 {\n",
       "            background-color:  #7ea1fa;\n",
       "            color:  #000000;\n",
       "        }    #T_561524fa_fe04_11e9_b617_acde48001122row10_col8 {\n",
       "            background-color:  #6f92f3;\n",
       "            color:  #000000;\n",
       "        }    #T_561524fa_fe04_11e9_b617_acde48001122row10_col9 {\n",
       "            background-color:  #6c8ff1;\n",
       "            color:  #000000;\n",
       "        }    #T_561524fa_fe04_11e9_b617_acde48001122row10_col10 {\n",
       "            background-color:  #b40426;\n",
       "            color:  #f1f1f1;\n",
       "        }    #T_561524fa_fe04_11e9_b617_acde48001122row10_col11 {\n",
       "            background-color:  #3b4cc0;\n",
       "            color:  #f1f1f1;\n",
       "        }    #T_561524fa_fe04_11e9_b617_acde48001122row10_col12 {\n",
       "            background-color:  #3b4cc0;\n",
       "            color:  #f1f1f1;\n",
       "        }    #T_561524fa_fe04_11e9_b617_acde48001122row10_col13 {\n",
       "            background-color:  #3c4ec2;\n",
       "            color:  #f1f1f1;\n",
       "        }    #T_561524fa_fe04_11e9_b617_acde48001122row10_col14 {\n",
       "            background-color:  #536edd;\n",
       "            color:  #000000;\n",
       "        }    #T_561524fa_fe04_11e9_b617_acde48001122row10_col15 {\n",
       "            background-color:  #6180e9;\n",
       "            color:  #000000;\n",
       "        }    #T_561524fa_fe04_11e9_b617_acde48001122row10_col16 {\n",
       "            background-color:  #5572df;\n",
       "            color:  #000000;\n",
       "        }    #T_561524fa_fe04_11e9_b617_acde48001122row10_col17 {\n",
       "            background-color:  #88abfd;\n",
       "            color:  #000000;\n",
       "        }    #T_561524fa_fe04_11e9_b617_acde48001122row11_col0 {\n",
       "            background-color:  #88abfd;\n",
       "            color:  #000000;\n",
       "        }    #T_561524fa_fe04_11e9_b617_acde48001122row11_col1 {\n",
       "            background-color:  #6f92f3;\n",
       "            color:  #000000;\n",
       "        }    #T_561524fa_fe04_11e9_b617_acde48001122row11_col2 {\n",
       "            background-color:  #6384eb;\n",
       "            color:  #000000;\n",
       "        }    #T_561524fa_fe04_11e9_b617_acde48001122row11_col3 {\n",
       "            background-color:  #5572df;\n",
       "            color:  #000000;\n",
       "        }    #T_561524fa_fe04_11e9_b617_acde48001122row11_col4 {\n",
       "            background-color:  #85a8fc;\n",
       "            color:  #000000;\n",
       "        }    #T_561524fa_fe04_11e9_b617_acde48001122row11_col5 {\n",
       "            background-color:  #7da0f9;\n",
       "            color:  #000000;\n",
       "        }    #T_561524fa_fe04_11e9_b617_acde48001122row11_col6 {\n",
       "            background-color:  #7b9ff9;\n",
       "            color:  #000000;\n",
       "        }    #T_561524fa_fe04_11e9_b617_acde48001122row11_col7 {\n",
       "            background-color:  #8db0fe;\n",
       "            color:  #000000;\n",
       "        }    #T_561524fa_fe04_11e9_b617_acde48001122row11_col8 {\n",
       "            background-color:  #6f92f3;\n",
       "            color:  #000000;\n",
       "        }    #T_561524fa_fe04_11e9_b617_acde48001122row11_col9 {\n",
       "            background-color:  #5977e3;\n",
       "            color:  #000000;\n",
       "        }    #T_561524fa_fe04_11e9_b617_acde48001122row11_col10 {\n",
       "            background-color:  #3e51c5;\n",
       "            color:  #f1f1f1;\n",
       "        }    #T_561524fa_fe04_11e9_b617_acde48001122row11_col11 {\n",
       "            background-color:  #b40426;\n",
       "            color:  #f1f1f1;\n",
       "        }    #T_561524fa_fe04_11e9_b617_acde48001122row11_col12 {\n",
       "            background-color:  #8fb1fe;\n",
       "            color:  #000000;\n",
       "        }    #T_561524fa_fe04_11e9_b617_acde48001122row11_col13 {\n",
       "            background-color:  #5d7ce6;\n",
       "            color:  #000000;\n",
       "        }    #T_561524fa_fe04_11e9_b617_acde48001122row11_col14 {\n",
       "            background-color:  #82a6fb;\n",
       "            color:  #000000;\n",
       "        }    #T_561524fa_fe04_11e9_b617_acde48001122row11_col15 {\n",
       "            background-color:  #5977e3;\n",
       "            color:  #000000;\n",
       "        }    #T_561524fa_fe04_11e9_b617_acde48001122row11_col16 {\n",
       "            background-color:  #4c66d6;\n",
       "            color:  #000000;\n",
       "        }    #T_561524fa_fe04_11e9_b617_acde48001122row11_col17 {\n",
       "            background-color:  #6c8ff1;\n",
       "            color:  #000000;\n",
       "        }    #T_561524fa_fe04_11e9_b617_acde48001122row12_col0 {\n",
       "            background-color:  #82a6fb;\n",
       "            color:  #000000;\n",
       "        }    #T_561524fa_fe04_11e9_b617_acde48001122row12_col1 {\n",
       "            background-color:  #6c8ff1;\n",
       "            color:  #000000;\n",
       "        }    #T_561524fa_fe04_11e9_b617_acde48001122row12_col2 {\n",
       "            background-color:  #5b7ae5;\n",
       "            color:  #000000;\n",
       "        }    #T_561524fa_fe04_11e9_b617_acde48001122row12_col3 {\n",
       "            background-color:  #516ddb;\n",
       "            color:  #000000;\n",
       "        }    #T_561524fa_fe04_11e9_b617_acde48001122row12_col4 {\n",
       "            background-color:  #81a4fb;\n",
       "            color:  #000000;\n",
       "        }    #T_561524fa_fe04_11e9_b617_acde48001122row12_col5 {\n",
       "            background-color:  #7a9df8;\n",
       "            color:  #000000;\n",
       "        }    #T_561524fa_fe04_11e9_b617_acde48001122row12_col6 {\n",
       "            background-color:  #7093f3;\n",
       "            color:  #000000;\n",
       "        }    #T_561524fa_fe04_11e9_b617_acde48001122row12_col7 {\n",
       "            background-color:  #88abfd;\n",
       "            color:  #000000;\n",
       "        }    #T_561524fa_fe04_11e9_b617_acde48001122row12_col8 {\n",
       "            background-color:  #7699f6;\n",
       "            color:  #000000;\n",
       "        }    #T_561524fa_fe04_11e9_b617_acde48001122row12_col9 {\n",
       "            background-color:  #5572df;\n",
       "            color:  #000000;\n",
       "        }    #T_561524fa_fe04_11e9_b617_acde48001122row12_col10 {\n",
       "            background-color:  #3b4cc0;\n",
       "            color:  #f1f1f1;\n",
       "        }    #T_561524fa_fe04_11e9_b617_acde48001122row12_col11 {\n",
       "            background-color:  #8badfd;\n",
       "            color:  #000000;\n",
       "        }    #T_561524fa_fe04_11e9_b617_acde48001122row12_col12 {\n",
       "            background-color:  #b40426;\n",
       "            color:  #f1f1f1;\n",
       "        }    #T_561524fa_fe04_11e9_b617_acde48001122row12_col13 {\n",
       "            background-color:  #6384eb;\n",
       "            color:  #000000;\n",
       "        }    #T_561524fa_fe04_11e9_b617_acde48001122row12_col14 {\n",
       "            background-color:  #6a8bef;\n",
       "            color:  #000000;\n",
       "        }    #T_561524fa_fe04_11e9_b617_acde48001122row12_col15 {\n",
       "            background-color:  #536edd;\n",
       "            color:  #000000;\n",
       "        }    #T_561524fa_fe04_11e9_b617_acde48001122row12_col16 {\n",
       "            background-color:  #4055c8;\n",
       "            color:  #f1f1f1;\n",
       "        }    #T_561524fa_fe04_11e9_b617_acde48001122row12_col17 {\n",
       "            background-color:  #799cf8;\n",
       "            color:  #000000;\n",
       "        }    #T_561524fa_fe04_11e9_b617_acde48001122row13_col0 {\n",
       "            background-color:  #88abfd;\n",
       "            color:  #000000;\n",
       "        }    #T_561524fa_fe04_11e9_b617_acde48001122row13_col1 {\n",
       "            background-color:  #6f92f3;\n",
       "            color:  #000000;\n",
       "        }    #T_561524fa_fe04_11e9_b617_acde48001122row13_col2 {\n",
       "            background-color:  #5e7de7;\n",
       "            color:  #000000;\n",
       "        }    #T_561524fa_fe04_11e9_b617_acde48001122row13_col3 {\n",
       "            background-color:  #506bda;\n",
       "            color:  #000000;\n",
       "        }    #T_561524fa_fe04_11e9_b617_acde48001122row13_col4 {\n",
       "            background-color:  #7a9df8;\n",
       "            color:  #000000;\n",
       "        }    #T_561524fa_fe04_11e9_b617_acde48001122row13_col5 {\n",
       "            background-color:  #7295f4;\n",
       "            color:  #000000;\n",
       "        }    #T_561524fa_fe04_11e9_b617_acde48001122row13_col6 {\n",
       "            background-color:  #7396f5;\n",
       "            color:  #000000;\n",
       "        }    #T_561524fa_fe04_11e9_b617_acde48001122row13_col7 {\n",
       "            background-color:  #86a9fc;\n",
       "            color:  #000000;\n",
       "        }    #T_561524fa_fe04_11e9_b617_acde48001122row13_col8 {\n",
       "            background-color:  #6c8ff1;\n",
       "            color:  #000000;\n",
       "        }    #T_561524fa_fe04_11e9_b617_acde48001122row13_col9 {\n",
       "            background-color:  #506bda;\n",
       "            color:  #000000;\n",
       "        }    #T_561524fa_fe04_11e9_b617_acde48001122row13_col10 {\n",
       "            background-color:  #3e51c5;\n",
       "            color:  #f1f1f1;\n",
       "        }    #T_561524fa_fe04_11e9_b617_acde48001122row13_col11 {\n",
       "            background-color:  #5a78e4;\n",
       "            color:  #000000;\n",
       "        }    #T_561524fa_fe04_11e9_b617_acde48001122row13_col12 {\n",
       "            background-color:  #6687ed;\n",
       "            color:  #000000;\n",
       "        }    #T_561524fa_fe04_11e9_b617_acde48001122row13_col13 {\n",
       "            background-color:  #b40426;\n",
       "            color:  #f1f1f1;\n",
       "        }    #T_561524fa_fe04_11e9_b617_acde48001122row13_col14 {\n",
       "            background-color:  #5572df;\n",
       "            color:  #000000;\n",
       "        }    #T_561524fa_fe04_11e9_b617_acde48001122row13_col15 {\n",
       "            background-color:  #4f69d9;\n",
       "            color:  #000000;\n",
       "        }    #T_561524fa_fe04_11e9_b617_acde48001122row13_col16 {\n",
       "            background-color:  #4b64d5;\n",
       "            color:  #f1f1f1;\n",
       "        }    #T_561524fa_fe04_11e9_b617_acde48001122row13_col17 {\n",
       "            background-color:  #6e90f2;\n",
       "            color:  #000000;\n",
       "        }    #T_561524fa_fe04_11e9_b617_acde48001122row14_col0 {\n",
       "            background-color:  #81a4fb;\n",
       "            color:  #000000;\n",
       "        }    #T_561524fa_fe04_11e9_b617_acde48001122row14_col1 {\n",
       "            background-color:  #6c8ff1;\n",
       "            color:  #000000;\n",
       "        }    #T_561524fa_fe04_11e9_b617_acde48001122row14_col2 {\n",
       "            background-color:  #5d7ce6;\n",
       "            color:  #000000;\n",
       "        }    #T_561524fa_fe04_11e9_b617_acde48001122row14_col3 {\n",
       "            background-color:  #506bda;\n",
       "            color:  #000000;\n",
       "        }    #T_561524fa_fe04_11e9_b617_acde48001122row14_col4 {\n",
       "            background-color:  #799cf8;\n",
       "            color:  #000000;\n",
       "        }    #T_561524fa_fe04_11e9_b617_acde48001122row14_col5 {\n",
       "            background-color:  #7295f4;\n",
       "            color:  #000000;\n",
       "        }    #T_561524fa_fe04_11e9_b617_acde48001122row14_col6 {\n",
       "            background-color:  #8caffe;\n",
       "            color:  #000000;\n",
       "        }    #T_561524fa_fe04_11e9_b617_acde48001122row14_col7 {\n",
       "            background-color:  #9ebeff;\n",
       "            color:  #000000;\n",
       "        }    #T_561524fa_fe04_11e9_b617_acde48001122row14_col8 {\n",
       "            background-color:  #6c8ff1;\n",
       "            color:  #000000;\n",
       "        }    #T_561524fa_fe04_11e9_b617_acde48001122row14_col9 {\n",
       "            background-color:  #6485ec;\n",
       "            color:  #000000;\n",
       "        }    #T_561524fa_fe04_11e9_b617_acde48001122row14_col10 {\n",
       "            background-color:  #5470de;\n",
       "            color:  #000000;\n",
       "        }    #T_561524fa_fe04_11e9_b617_acde48001122row14_col11 {\n",
       "            background-color:  #80a3fa;\n",
       "            color:  #000000;\n",
       "        }    #T_561524fa_fe04_11e9_b617_acde48001122row14_col12 {\n",
       "            background-color:  #6a8bef;\n",
       "            color:  #000000;\n",
       "        }    #T_561524fa_fe04_11e9_b617_acde48001122row14_col13 {\n",
       "            background-color:  #5470de;\n",
       "            color:  #000000;\n",
       "        }    #T_561524fa_fe04_11e9_b617_acde48001122row14_col14 {\n",
       "            background-color:  #b40426;\n",
       "            color:  #f1f1f1;\n",
       "        }    #T_561524fa_fe04_11e9_b617_acde48001122row14_col15 {\n",
       "            background-color:  #5875e1;\n",
       "            color:  #000000;\n",
       "        }    #T_561524fa_fe04_11e9_b617_acde48001122row14_col16 {\n",
       "            background-color:  #4b64d5;\n",
       "            color:  #f1f1f1;\n",
       "        }    #T_561524fa_fe04_11e9_b617_acde48001122row14_col17 {\n",
       "            background-color:  #6f92f3;\n",
       "            color:  #000000;\n",
       "        }    #T_561524fa_fe04_11e9_b617_acde48001122row15_col0 {\n",
       "            background-color:  #82a6fb;\n",
       "            color:  #000000;\n",
       "        }    #T_561524fa_fe04_11e9_b617_acde48001122row15_col1 {\n",
       "            background-color:  #6a8bef;\n",
       "            color:  #000000;\n",
       "        }    #T_561524fa_fe04_11e9_b617_acde48001122row15_col2 {\n",
       "            background-color:  #779af7;\n",
       "            color:  #000000;\n",
       "        }    #T_561524fa_fe04_11e9_b617_acde48001122row15_col3 {\n",
       "            background-color:  #6485ec;\n",
       "            color:  #000000;\n",
       "        }    #T_561524fa_fe04_11e9_b617_acde48001122row15_col4 {\n",
       "            background-color:  #a7c5fe;\n",
       "            color:  #000000;\n",
       "        }    #T_561524fa_fe04_11e9_b617_acde48001122row15_col5 {\n",
       "            background-color:  #9dbdff;\n",
       "            color:  #000000;\n",
       "        }    #T_561524fa_fe04_11e9_b617_acde48001122row15_col6 {\n",
       "            background-color:  #9dbdff;\n",
       "            color:  #000000;\n",
       "        }    #T_561524fa_fe04_11e9_b617_acde48001122row15_col7 {\n",
       "            background-color:  #b9d0f9;\n",
       "            color:  #000000;\n",
       "        }    #T_561524fa_fe04_11e9_b617_acde48001122row15_col8 {\n",
       "            background-color:  #4a63d3;\n",
       "            color:  #f1f1f1;\n",
       "        }    #T_561524fa_fe04_11e9_b617_acde48001122row15_col9 {\n",
       "            background-color:  #6f92f3;\n",
       "            color:  #000000;\n",
       "        }    #T_561524fa_fe04_11e9_b617_acde48001122row15_col10 {\n",
       "            background-color:  #4f69d9;\n",
       "            color:  #000000;\n",
       "        }    #T_561524fa_fe04_11e9_b617_acde48001122row15_col11 {\n",
       "            background-color:  #4358cb;\n",
       "            color:  #f1f1f1;\n",
       "        }    #T_561524fa_fe04_11e9_b617_acde48001122row15_col12 {\n",
       "            background-color:  #4055c8;\n",
       "            color:  #f1f1f1;\n",
       "        }    #T_561524fa_fe04_11e9_b617_acde48001122row15_col13 {\n",
       "            background-color:  #3b4cc0;\n",
       "            color:  #f1f1f1;\n",
       "        }    #T_561524fa_fe04_11e9_b617_acde48001122row15_col14 {\n",
       "            background-color:  #455cce;\n",
       "            color:  #f1f1f1;\n",
       "        }    #T_561524fa_fe04_11e9_b617_acde48001122row15_col15 {\n",
       "            background-color:  #b40426;\n",
       "            color:  #f1f1f1;\n",
       "        }    #T_561524fa_fe04_11e9_b617_acde48001122row15_col16 {\n",
       "            background-color:  #3f53c6;\n",
       "            color:  #f1f1f1;\n",
       "        }    #T_561524fa_fe04_11e9_b617_acde48001122row15_col17 {\n",
       "            background-color:  #5470de;\n",
       "            color:  #000000;\n",
       "        }    #T_561524fa_fe04_11e9_b617_acde48001122row16_col0 {\n",
       "            background-color:  #90b2fe;\n",
       "            color:  #000000;\n",
       "        }    #T_561524fa_fe04_11e9_b617_acde48001122row16_col1 {\n",
       "            background-color:  #7597f6;\n",
       "            color:  #000000;\n",
       "        }    #T_561524fa_fe04_11e9_b617_acde48001122row16_col2 {\n",
       "            background-color:  #7093f3;\n",
       "            color:  #000000;\n",
       "        }    #T_561524fa_fe04_11e9_b617_acde48001122row16_col3 {\n",
       "            background-color:  #5e7de7;\n",
       "            color:  #000000;\n",
       "        }    #T_561524fa_fe04_11e9_b617_acde48001122row16_col4 {\n",
       "            background-color:  #89acfd;\n",
       "            color:  #000000;\n",
       "        }    #T_561524fa_fe04_11e9_b617_acde48001122row16_col5 {\n",
       "            background-color:  #7ea1fa;\n",
       "            color:  #000000;\n",
       "        }    #T_561524fa_fe04_11e9_b617_acde48001122row16_col6 {\n",
       "            background-color:  #688aef;\n",
       "            color:  #000000;\n",
       "        }    #T_561524fa_fe04_11e9_b617_acde48001122row16_col7 {\n",
       "            background-color:  #799cf8;\n",
       "            color:  #000000;\n",
       "        }    #T_561524fa_fe04_11e9_b617_acde48001122row16_col8 {\n",
       "            background-color:  #6c8ff1;\n",
       "            color:  #000000;\n",
       "        }    #T_561524fa_fe04_11e9_b617_acde48001122row16_col9 {\n",
       "            background-color:  #506bda;\n",
       "            color:  #000000;\n",
       "        }    #T_561524fa_fe04_11e9_b617_acde48001122row16_col10 {\n",
       "            background-color:  #506bda;\n",
       "            color:  #000000;\n",
       "        }    #T_561524fa_fe04_11e9_b617_acde48001122row16_col11 {\n",
       "            background-color:  #4358cb;\n",
       "            color:  #f1f1f1;\n",
       "        }    #T_561524fa_fe04_11e9_b617_acde48001122row16_col12 {\n",
       "            background-color:  #3c4ec2;\n",
       "            color:  #f1f1f1;\n",
       "        }    #T_561524fa_fe04_11e9_b617_acde48001122row16_col13 {\n",
       "            background-color:  #455cce;\n",
       "            color:  #f1f1f1;\n",
       "        }    #T_561524fa_fe04_11e9_b617_acde48001122row16_col14 {\n",
       "            background-color:  #465ecf;\n",
       "            color:  #f1f1f1;\n",
       "        }    #T_561524fa_fe04_11e9_b617_acde48001122row16_col15 {\n",
       "            background-color:  #4c66d6;\n",
       "            color:  #000000;\n",
       "        }    #T_561524fa_fe04_11e9_b617_acde48001122row16_col16 {\n",
       "            background-color:  #b40426;\n",
       "            color:  #f1f1f1;\n",
       "        }    #T_561524fa_fe04_11e9_b617_acde48001122row16_col17 {\n",
       "            background-color:  #7a9df8;\n",
       "            color:  #000000;\n",
       "        }    #T_561524fa_fe04_11e9_b617_acde48001122row17_col0 {\n",
       "            background-color:  #aec9fc;\n",
       "            color:  #000000;\n",
       "        }    #T_561524fa_fe04_11e9_b617_acde48001122row17_col1 {\n",
       "            background-color:  #8caffe;\n",
       "            color:  #000000;\n",
       "        }    #T_561524fa_fe04_11e9_b617_acde48001122row17_col2 {\n",
       "            background-color:  #82a6fb;\n",
       "            color:  #000000;\n",
       "        }    #T_561524fa_fe04_11e9_b617_acde48001122row17_col3 {\n",
       "            background-color:  #6c8ff1;\n",
       "            color:  #000000;\n",
       "        }    #T_561524fa_fe04_11e9_b617_acde48001122row17_col4 {\n",
       "            background-color:  #afcafc;\n",
       "            color:  #000000;\n",
       "        }    #T_561524fa_fe04_11e9_b617_acde48001122row17_col5 {\n",
       "            background-color:  #a6c4fe;\n",
       "            color:  #000000;\n",
       "        }    #T_561524fa_fe04_11e9_b617_acde48001122row17_col6 {\n",
       "            background-color:  #4c66d6;\n",
       "            color:  #000000;\n",
       "        }    #T_561524fa_fe04_11e9_b617_acde48001122row17_col7 {\n",
       "            background-color:  #5470de;\n",
       "            color:  #000000;\n",
       "        }    #T_561524fa_fe04_11e9_b617_acde48001122row17_col8 {\n",
       "            background-color:  #edd2c3;\n",
       "            color:  #000000;\n",
       "        }    #T_561524fa_fe04_11e9_b617_acde48001122row17_col9 {\n",
       "            background-color:  #3d50c3;\n",
       "            color:  #f1f1f1;\n",
       "        }    #T_561524fa_fe04_11e9_b617_acde48001122row17_col10 {\n",
       "            background-color:  #5f7fe8;\n",
       "            color:  #000000;\n",
       "        }    #T_561524fa_fe04_11e9_b617_acde48001122row17_col11 {\n",
       "            background-color:  #3e51c5;\n",
       "            color:  #f1f1f1;\n",
       "        }    #T_561524fa_fe04_11e9_b617_acde48001122row17_col12 {\n",
       "            background-color:  #4f69d9;\n",
       "            color:  #000000;\n",
       "        }    #T_561524fa_fe04_11e9_b617_acde48001122row17_col13 {\n",
       "            background-color:  #4257c9;\n",
       "            color:  #f1f1f1;\n",
       "        }    #T_561524fa_fe04_11e9_b617_acde48001122row17_col14 {\n",
       "            background-color:  #455cce;\n",
       "            color:  #f1f1f1;\n",
       "        }    #T_561524fa_fe04_11e9_b617_acde48001122row17_col15 {\n",
       "            background-color:  #3c4ec2;\n",
       "            color:  #f1f1f1;\n",
       "        }    #T_561524fa_fe04_11e9_b617_acde48001122row17_col16 {\n",
       "            background-color:  #5572df;\n",
       "            color:  #000000;\n",
       "        }    #T_561524fa_fe04_11e9_b617_acde48001122row17_col17 {\n",
       "            background-color:  #b40426;\n",
       "            color:  #f1f1f1;\n",
       "        }</style><table id=\"T_561524fa_fe04_11e9_b617_acde48001122\" ><thead>    <tr>        <th class=\"blank level0\" ></th>        <th class=\"col_heading level0 col0\" >Administrative</th>        <th class=\"col_heading level0 col1\" >Administrative_Duration</th>        <th class=\"col_heading level0 col2\" >Informational</th>        <th class=\"col_heading level0 col3\" >Informational_Duration</th>        <th class=\"col_heading level0 col4\" >ProductRelated</th>        <th class=\"col_heading level0 col5\" >ProductRelated_Duration</th>        <th class=\"col_heading level0 col6\" >BounceRates</th>        <th class=\"col_heading level0 col7\" >ExitRates</th>        <th class=\"col_heading level0 col8\" >PageValues</th>        <th class=\"col_heading level0 col9\" >SpecialDay</th>        <th class=\"col_heading level0 col10\" >Month</th>        <th class=\"col_heading level0 col11\" >OperatingSystems</th>        <th class=\"col_heading level0 col12\" >Browser</th>        <th class=\"col_heading level0 col13\" >Region</th>        <th class=\"col_heading level0 col14\" >TrafficType</th>        <th class=\"col_heading level0 col15\" >VisitorType</th>        <th class=\"col_heading level0 col16\" >Weekend</th>        <th class=\"col_heading level0 col17\" >Revenue</th>    </tr></thead><tbody>\n",
       "                <tr>\n",
       "                        <th id=\"T_561524fa_fe04_11e9_b617_acde48001122level0_row0\" class=\"row_heading level0 row0\" >Administrative</th>\n",
       "                        <td id=\"T_561524fa_fe04_11e9_b617_acde48001122row0_col0\" class=\"data row0 col0\" >1</td>\n",
       "                        <td id=\"T_561524fa_fe04_11e9_b617_acde48001122row0_col1\" class=\"data row0 col1\" >0.6</td>\n",
       "                        <td id=\"T_561524fa_fe04_11e9_b617_acde48001122row0_col2\" class=\"data row0 col2\" >0.38</td>\n",
       "                        <td id=\"T_561524fa_fe04_11e9_b617_acde48001122row0_col3\" class=\"data row0 col3\" >0.26</td>\n",
       "                        <td id=\"T_561524fa_fe04_11e9_b617_acde48001122row0_col4\" class=\"data row0 col4\" >0.43</td>\n",
       "                        <td id=\"T_561524fa_fe04_11e9_b617_acde48001122row0_col5\" class=\"data row0 col5\" >0.37</td>\n",
       "                        <td id=\"T_561524fa_fe04_11e9_b617_acde48001122row0_col6\" class=\"data row0 col6\" >-0.22</td>\n",
       "                        <td id=\"T_561524fa_fe04_11e9_b617_acde48001122row0_col7\" class=\"data row0 col7\" >-0.32</td>\n",
       "                        <td id=\"T_561524fa_fe04_11e9_b617_acde48001122row0_col8\" class=\"data row0 col8\" >0.099</td>\n",
       "                        <td id=\"T_561524fa_fe04_11e9_b617_acde48001122row0_col9\" class=\"data row0 col9\" >-0.095</td>\n",
       "                        <td id=\"T_561524fa_fe04_11e9_b617_acde48001122row0_col10\" class=\"data row0 col10\" >0.049</td>\n",
       "                        <td id=\"T_561524fa_fe04_11e9_b617_acde48001122row0_col11\" class=\"data row0 col11\" >-0.0063</td>\n",
       "                        <td id=\"T_561524fa_fe04_11e9_b617_acde48001122row0_col12\" class=\"data row0 col12\" >-0.025</td>\n",
       "                        <td id=\"T_561524fa_fe04_11e9_b617_acde48001122row0_col13\" class=\"data row0 col13\" >-0.0055</td>\n",
       "                        <td id=\"T_561524fa_fe04_11e9_b617_acde48001122row0_col14\" class=\"data row0 col14\" >-0.034</td>\n",
       "                        <td id=\"T_561524fa_fe04_11e9_b617_acde48001122row0_col15\" class=\"data row0 col15\" >-0.026</td>\n",
       "                        <td id=\"T_561524fa_fe04_11e9_b617_acde48001122row0_col16\" class=\"data row0 col16\" >0.026</td>\n",
       "                        <td id=\"T_561524fa_fe04_11e9_b617_acde48001122row0_col17\" class=\"data row0 col17\" >0.14</td>\n",
       "            </tr>\n",
       "            <tr>\n",
       "                        <th id=\"T_561524fa_fe04_11e9_b617_acde48001122level0_row1\" class=\"row_heading level0 row1\" >Administrative_Duration</th>\n",
       "                        <td id=\"T_561524fa_fe04_11e9_b617_acde48001122row1_col0\" class=\"data row1 col0\" >0.6</td>\n",
       "                        <td id=\"T_561524fa_fe04_11e9_b617_acde48001122row1_col1\" class=\"data row1 col1\" >1</td>\n",
       "                        <td id=\"T_561524fa_fe04_11e9_b617_acde48001122row1_col2\" class=\"data row1 col2\" >0.3</td>\n",
       "                        <td id=\"T_561524fa_fe04_11e9_b617_acde48001122row1_col3\" class=\"data row1 col3\" >0.24</td>\n",
       "                        <td id=\"T_561524fa_fe04_11e9_b617_acde48001122row1_col4\" class=\"data row1 col4\" >0.29</td>\n",
       "                        <td id=\"T_561524fa_fe04_11e9_b617_acde48001122row1_col5\" class=\"data row1 col5\" >0.36</td>\n",
       "                        <td id=\"T_561524fa_fe04_11e9_b617_acde48001122row1_col6\" class=\"data row1 col6\" >-0.14</td>\n",
       "                        <td id=\"T_561524fa_fe04_11e9_b617_acde48001122row1_col7\" class=\"data row1 col7\" >-0.21</td>\n",
       "                        <td id=\"T_561524fa_fe04_11e9_b617_acde48001122row1_col8\" class=\"data row1 col8\" >0.068</td>\n",
       "                        <td id=\"T_561524fa_fe04_11e9_b617_acde48001122row1_col9\" class=\"data row1 col9\" >-0.073</td>\n",
       "                        <td id=\"T_561524fa_fe04_11e9_b617_acde48001122row1_col10\" class=\"data row1 col10\" >0.029</td>\n",
       "                        <td id=\"T_561524fa_fe04_11e9_b617_acde48001122row1_col11\" class=\"data row1 col11\" >-0.0073</td>\n",
       "                        <td id=\"T_561524fa_fe04_11e9_b617_acde48001122row1_col12\" class=\"data row1 col12\" >-0.015</td>\n",
       "                        <td id=\"T_561524fa_fe04_11e9_b617_acde48001122row1_col13\" class=\"data row1 col13\" >-0.0056</td>\n",
       "                        <td id=\"T_561524fa_fe04_11e9_b617_acde48001122row1_col14\" class=\"data row1 col14\" >-0.014</td>\n",
       "                        <td id=\"T_561524fa_fe04_11e9_b617_acde48001122row1_col15\" class=\"data row1 col15\" >-0.024</td>\n",
       "                        <td id=\"T_561524fa_fe04_11e9_b617_acde48001122row1_col16\" class=\"data row1 col16\" >0.015</td>\n",
       "                        <td id=\"T_561524fa_fe04_11e9_b617_acde48001122row1_col17\" class=\"data row1 col17\" >0.094</td>\n",
       "            </tr>\n",
       "            <tr>\n",
       "                        <th id=\"T_561524fa_fe04_11e9_b617_acde48001122level0_row2\" class=\"row_heading level0 row2\" >Informational</th>\n",
       "                        <td id=\"T_561524fa_fe04_11e9_b617_acde48001122row2_col0\" class=\"data row2 col0\" >0.38</td>\n",
       "                        <td id=\"T_561524fa_fe04_11e9_b617_acde48001122row2_col1\" class=\"data row2 col1\" >0.3</td>\n",
       "                        <td id=\"T_561524fa_fe04_11e9_b617_acde48001122row2_col2\" class=\"data row2 col2\" >1</td>\n",
       "                        <td id=\"T_561524fa_fe04_11e9_b617_acde48001122row2_col3\" class=\"data row2 col3\" >0.62</td>\n",
       "                        <td id=\"T_561524fa_fe04_11e9_b617_acde48001122row2_col4\" class=\"data row2 col4\" >0.37</td>\n",
       "                        <td id=\"T_561524fa_fe04_11e9_b617_acde48001122row2_col5\" class=\"data row2 col5\" >0.39</td>\n",
       "                        <td id=\"T_561524fa_fe04_11e9_b617_acde48001122row2_col6\" class=\"data row2 col6\" >-0.12</td>\n",
       "                        <td id=\"T_561524fa_fe04_11e9_b617_acde48001122row2_col7\" class=\"data row2 col7\" >-0.16</td>\n",
       "                        <td id=\"T_561524fa_fe04_11e9_b617_acde48001122row2_col8\" class=\"data row2 col8\" >0.049</td>\n",
       "                        <td id=\"T_561524fa_fe04_11e9_b617_acde48001122row2_col9\" class=\"data row2 col9\" >-0.048</td>\n",
       "                        <td id=\"T_561524fa_fe04_11e9_b617_acde48001122row2_col10\" class=\"data row2 col10\" >0.02</td>\n",
       "                        <td id=\"T_561524fa_fe04_11e9_b617_acde48001122row2_col11\" class=\"data row2 col11\" >-0.0095</td>\n",
       "                        <td id=\"T_561524fa_fe04_11e9_b617_acde48001122row2_col12\" class=\"data row2 col12\" >-0.038</td>\n",
       "                        <td id=\"T_561524fa_fe04_11e9_b617_acde48001122row2_col13\" class=\"data row2 col13\" >-0.029</td>\n",
       "                        <td id=\"T_561524fa_fe04_11e9_b617_acde48001122row2_col14\" class=\"data row2 col14\" >-0.034</td>\n",
       "                        <td id=\"T_561524fa_fe04_11e9_b617_acde48001122row2_col15\" class=\"data row2 col15\" >0.056</td>\n",
       "                        <td id=\"T_561524fa_fe04_11e9_b617_acde48001122row2_col16\" class=\"data row2 col16\" >0.036</td>\n",
       "                        <td id=\"T_561524fa_fe04_11e9_b617_acde48001122row2_col17\" class=\"data row2 col17\" >0.095</td>\n",
       "            </tr>\n",
       "            <tr>\n",
       "                        <th id=\"T_561524fa_fe04_11e9_b617_acde48001122level0_row3\" class=\"row_heading level0 row3\" >Informational_Duration</th>\n",
       "                        <td id=\"T_561524fa_fe04_11e9_b617_acde48001122row3_col0\" class=\"data row3 col0\" >0.26</td>\n",
       "                        <td id=\"T_561524fa_fe04_11e9_b617_acde48001122row3_col1\" class=\"data row3 col1\" >0.24</td>\n",
       "                        <td id=\"T_561524fa_fe04_11e9_b617_acde48001122row3_col2\" class=\"data row3 col2\" >0.62</td>\n",
       "                        <td id=\"T_561524fa_fe04_11e9_b617_acde48001122row3_col3\" class=\"data row3 col3\" >1</td>\n",
       "                        <td id=\"T_561524fa_fe04_11e9_b617_acde48001122row3_col4\" class=\"data row3 col4\" >0.28</td>\n",
       "                        <td id=\"T_561524fa_fe04_11e9_b617_acde48001122row3_col5\" class=\"data row3 col5\" >0.35</td>\n",
       "                        <td id=\"T_561524fa_fe04_11e9_b617_acde48001122row3_col6\" class=\"data row3 col6\" >-0.074</td>\n",
       "                        <td id=\"T_561524fa_fe04_11e9_b617_acde48001122row3_col7\" class=\"data row3 col7\" >-0.11</td>\n",
       "                        <td id=\"T_561524fa_fe04_11e9_b617_acde48001122row3_col8\" class=\"data row3 col8\" >0.031</td>\n",
       "                        <td id=\"T_561524fa_fe04_11e9_b617_acde48001122row3_col9\" class=\"data row3 col9\" >-0.031</td>\n",
       "                        <td id=\"T_561524fa_fe04_11e9_b617_acde48001122row3_col10\" class=\"data row3 col10\" >0.006</td>\n",
       "                        <td id=\"T_561524fa_fe04_11e9_b617_acde48001122row3_col11\" class=\"data row3 col11\" >-0.0096</td>\n",
       "                        <td id=\"T_561524fa_fe04_11e9_b617_acde48001122row3_col12\" class=\"data row3 col12\" >-0.019</td>\n",
       "                        <td id=\"T_561524fa_fe04_11e9_b617_acde48001122row3_col13\" class=\"data row3 col13\" >-0.027</td>\n",
       "                        <td id=\"T_561524fa_fe04_11e9_b617_acde48001122row3_col14\" class=\"data row3 col14\" >-0.025</td>\n",
       "                        <td id=\"T_561524fa_fe04_11e9_b617_acde48001122row3_col15\" class=\"data row3 col15\" >0.045</td>\n",
       "                        <td id=\"T_561524fa_fe04_11e9_b617_acde48001122row3_col16\" class=\"data row3 col16\" >0.024</td>\n",
       "                        <td id=\"T_561524fa_fe04_11e9_b617_acde48001122row3_col17\" class=\"data row3 col17\" >0.07</td>\n",
       "            </tr>\n",
       "            <tr>\n",
       "                        <th id=\"T_561524fa_fe04_11e9_b617_acde48001122level0_row4\" class=\"row_heading level0 row4\" >ProductRelated</th>\n",
       "                        <td id=\"T_561524fa_fe04_11e9_b617_acde48001122row4_col0\" class=\"data row4 col0\" >0.43</td>\n",
       "                        <td id=\"T_561524fa_fe04_11e9_b617_acde48001122row4_col1\" class=\"data row4 col1\" >0.29</td>\n",
       "                        <td id=\"T_561524fa_fe04_11e9_b617_acde48001122row4_col2\" class=\"data row4 col2\" >0.37</td>\n",
       "                        <td id=\"T_561524fa_fe04_11e9_b617_acde48001122row4_col3\" class=\"data row4 col3\" >0.28</td>\n",
       "                        <td id=\"T_561524fa_fe04_11e9_b617_acde48001122row4_col4\" class=\"data row4 col4\" >1</td>\n",
       "                        <td id=\"T_561524fa_fe04_11e9_b617_acde48001122row4_col5\" class=\"data row4 col5\" >0.86</td>\n",
       "                        <td id=\"T_561524fa_fe04_11e9_b617_acde48001122row4_col6\" class=\"data row4 col6\" >-0.2</td>\n",
       "                        <td id=\"T_561524fa_fe04_11e9_b617_acde48001122row4_col7\" class=\"data row4 col7\" >-0.29</td>\n",
       "                        <td id=\"T_561524fa_fe04_11e9_b617_acde48001122row4_col8\" class=\"data row4 col8\" >0.056</td>\n",
       "                        <td id=\"T_561524fa_fe04_11e9_b617_acde48001122row4_col9\" class=\"data row4 col9\" >-0.024</td>\n",
       "                        <td id=\"T_561524fa_fe04_11e9_b617_acde48001122row4_col10\" class=\"data row4 col10\" >0.07</td>\n",
       "                        <td id=\"T_561524fa_fe04_11e9_b617_acde48001122row4_col11\" class=\"data row4 col11\" >0.0043</td>\n",
       "                        <td id=\"T_561524fa_fe04_11e9_b617_acde48001122row4_col12\" class=\"data row4 col12\" >-0.013</td>\n",
       "                        <td id=\"T_561524fa_fe04_11e9_b617_acde48001122row4_col13\" class=\"data row4 col13\" >-0.038</td>\n",
       "                        <td id=\"T_561524fa_fe04_11e9_b617_acde48001122row4_col14\" class=\"data row4 col14\" >-0.043</td>\n",
       "                        <td id=\"T_561524fa_fe04_11e9_b617_acde48001122row4_col15\" class=\"data row4 col15\" >0.13</td>\n",
       "                        <td id=\"T_561524fa_fe04_11e9_b617_acde48001122row4_col16\" class=\"data row4 col16\" >0.016</td>\n",
       "                        <td id=\"T_561524fa_fe04_11e9_b617_acde48001122row4_col17\" class=\"data row4 col17\" >0.16</td>\n",
       "            </tr>\n",
       "            <tr>\n",
       "                        <th id=\"T_561524fa_fe04_11e9_b617_acde48001122level0_row5\" class=\"row_heading level0 row5\" >ProductRelated_Duration</th>\n",
       "                        <td id=\"T_561524fa_fe04_11e9_b617_acde48001122row5_col0\" class=\"data row5 col0\" >0.37</td>\n",
       "                        <td id=\"T_561524fa_fe04_11e9_b617_acde48001122row5_col1\" class=\"data row5 col1\" >0.36</td>\n",
       "                        <td id=\"T_561524fa_fe04_11e9_b617_acde48001122row5_col2\" class=\"data row5 col2\" >0.39</td>\n",
       "                        <td id=\"T_561524fa_fe04_11e9_b617_acde48001122row5_col3\" class=\"data row5 col3\" >0.35</td>\n",
       "                        <td id=\"T_561524fa_fe04_11e9_b617_acde48001122row5_col4\" class=\"data row5 col4\" >0.86</td>\n",
       "                        <td id=\"T_561524fa_fe04_11e9_b617_acde48001122row5_col5\" class=\"data row5 col5\" >1</td>\n",
       "                        <td id=\"T_561524fa_fe04_11e9_b617_acde48001122row5_col6\" class=\"data row5 col6\" >-0.18</td>\n",
       "                        <td id=\"T_561524fa_fe04_11e9_b617_acde48001122row5_col7\" class=\"data row5 col7\" >-0.25</td>\n",
       "                        <td id=\"T_561524fa_fe04_11e9_b617_acde48001122row5_col8\" class=\"data row5 col8\" >0.053</td>\n",
       "                        <td id=\"T_561524fa_fe04_11e9_b617_acde48001122row5_col9\" class=\"data row5 col9\" >-0.036</td>\n",
       "                        <td id=\"T_561524fa_fe04_11e9_b617_acde48001122row5_col10\" class=\"data row5 col10\" >0.061</td>\n",
       "                        <td id=\"T_561524fa_fe04_11e9_b617_acde48001122row5_col11\" class=\"data row5 col11\" >0.003</td>\n",
       "                        <td id=\"T_561524fa_fe04_11e9_b617_acde48001122row5_col12\" class=\"data row5 col12\" >-0.0074</td>\n",
       "                        <td id=\"T_561524fa_fe04_11e9_b617_acde48001122row5_col13\" class=\"data row5 col13\" >-0.033</td>\n",
       "                        <td id=\"T_561524fa_fe04_11e9_b617_acde48001122row5_col14\" class=\"data row5 col14\" >-0.036</td>\n",
       "                        <td id=\"T_561524fa_fe04_11e9_b617_acde48001122row5_col15\" class=\"data row5 col15\" >0.12</td>\n",
       "                        <td id=\"T_561524fa_fe04_11e9_b617_acde48001122row5_col16\" class=\"data row5 col16\" >0.0073</td>\n",
       "                        <td id=\"T_561524fa_fe04_11e9_b617_acde48001122row5_col17\" class=\"data row5 col17\" >0.15</td>\n",
       "            </tr>\n",
       "            <tr>\n",
       "                        <th id=\"T_561524fa_fe04_11e9_b617_acde48001122level0_row6\" class=\"row_heading level0 row6\" >BounceRates</th>\n",
       "                        <td id=\"T_561524fa_fe04_11e9_b617_acde48001122row6_col0\" class=\"data row6 col0\" >-0.22</td>\n",
       "                        <td id=\"T_561524fa_fe04_11e9_b617_acde48001122row6_col1\" class=\"data row6 col1\" >-0.14</td>\n",
       "                        <td id=\"T_561524fa_fe04_11e9_b617_acde48001122row6_col2\" class=\"data row6 col2\" >-0.12</td>\n",
       "                        <td id=\"T_561524fa_fe04_11e9_b617_acde48001122row6_col3\" class=\"data row6 col3\" >-0.074</td>\n",
       "                        <td id=\"T_561524fa_fe04_11e9_b617_acde48001122row6_col4\" class=\"data row6 col4\" >-0.2</td>\n",
       "                        <td id=\"T_561524fa_fe04_11e9_b617_acde48001122row6_col5\" class=\"data row6 col5\" >-0.18</td>\n",
       "                        <td id=\"T_561524fa_fe04_11e9_b617_acde48001122row6_col6\" class=\"data row6 col6\" >1</td>\n",
       "                        <td id=\"T_561524fa_fe04_11e9_b617_acde48001122row6_col7\" class=\"data row6 col7\" >0.91</td>\n",
       "                        <td id=\"T_561524fa_fe04_11e9_b617_acde48001122row6_col8\" class=\"data row6 col8\" >-0.12</td>\n",
       "                        <td id=\"T_561524fa_fe04_11e9_b617_acde48001122row6_col9\" class=\"data row6 col9\" >0.073</td>\n",
       "                        <td id=\"T_561524fa_fe04_11e9_b617_acde48001122row6_col10\" class=\"data row6 col10\" >-0.024</td>\n",
       "                        <td id=\"T_561524fa_fe04_11e9_b617_acde48001122row6_col11\" class=\"data row6 col11\" >0.024</td>\n",
       "                        <td id=\"T_561524fa_fe04_11e9_b617_acde48001122row6_col12\" class=\"data row6 col12\" >-0.016</td>\n",
       "                        <td id=\"T_561524fa_fe04_11e9_b617_acde48001122row6_col13\" class=\"data row6 col13\" >-0.0065</td>\n",
       "                        <td id=\"T_561524fa_fe04_11e9_b617_acde48001122row6_col14\" class=\"data row6 col14\" >0.078</td>\n",
       "                        <td id=\"T_561524fa_fe04_11e9_b617_acde48001122row6_col15\" class=\"data row6 col15\" >0.14</td>\n",
       "                        <td id=\"T_561524fa_fe04_11e9_b617_acde48001122row6_col16\" class=\"data row6 col16\" >-0.047</td>\n",
       "                        <td id=\"T_561524fa_fe04_11e9_b617_acde48001122row6_col17\" class=\"data row6 col17\" >-0.15</td>\n",
       "            </tr>\n",
       "            <tr>\n",
       "                        <th id=\"T_561524fa_fe04_11e9_b617_acde48001122level0_row7\" class=\"row_heading level0 row7\" >ExitRates</th>\n",
       "                        <td id=\"T_561524fa_fe04_11e9_b617_acde48001122row7_col0\" class=\"data row7 col0\" >-0.32</td>\n",
       "                        <td id=\"T_561524fa_fe04_11e9_b617_acde48001122row7_col1\" class=\"data row7 col1\" >-0.21</td>\n",
       "                        <td id=\"T_561524fa_fe04_11e9_b617_acde48001122row7_col2\" class=\"data row7 col2\" >-0.16</td>\n",
       "                        <td id=\"T_561524fa_fe04_11e9_b617_acde48001122row7_col3\" class=\"data row7 col3\" >-0.11</td>\n",
       "                        <td id=\"T_561524fa_fe04_11e9_b617_acde48001122row7_col4\" class=\"data row7 col4\" >-0.29</td>\n",
       "                        <td id=\"T_561524fa_fe04_11e9_b617_acde48001122row7_col5\" class=\"data row7 col5\" >-0.25</td>\n",
       "                        <td id=\"T_561524fa_fe04_11e9_b617_acde48001122row7_col6\" class=\"data row7 col6\" >0.91</td>\n",
       "                        <td id=\"T_561524fa_fe04_11e9_b617_acde48001122row7_col7\" class=\"data row7 col7\" >1</td>\n",
       "                        <td id=\"T_561524fa_fe04_11e9_b617_acde48001122row7_col8\" class=\"data row7 col8\" >-0.17</td>\n",
       "                        <td id=\"T_561524fa_fe04_11e9_b617_acde48001122row7_col9\" class=\"data row7 col9\" >0.1</td>\n",
       "                        <td id=\"T_561524fa_fe04_11e9_b617_acde48001122row7_col10\" class=\"data row7 col10\" >-0.039</td>\n",
       "                        <td id=\"T_561524fa_fe04_11e9_b617_acde48001122row7_col11\" class=\"data row7 col11\" >0.015</td>\n",
       "                        <td id=\"T_561524fa_fe04_11e9_b617_acde48001122row7_col12\" class=\"data row7 col12\" >-0.0044</td>\n",
       "                        <td id=\"T_561524fa_fe04_11e9_b617_acde48001122row7_col13\" class=\"data row7 col13\" >-0.0089</td>\n",
       "                        <td id=\"T_561524fa_fe04_11e9_b617_acde48001122row7_col14\" class=\"data row7 col14\" >0.079</td>\n",
       "                        <td id=\"T_561524fa_fe04_11e9_b617_acde48001122row7_col15\" class=\"data row7 col15\" >0.18</td>\n",
       "                        <td id=\"T_561524fa_fe04_11e9_b617_acde48001122row7_col16\" class=\"data row7 col16\" >-0.063</td>\n",
       "                        <td id=\"T_561524fa_fe04_11e9_b617_acde48001122row7_col17\" class=\"data row7 col17\" >-0.21</td>\n",
       "            </tr>\n",
       "            <tr>\n",
       "                        <th id=\"T_561524fa_fe04_11e9_b617_acde48001122level0_row8\" class=\"row_heading level0 row8\" >PageValues</th>\n",
       "                        <td id=\"T_561524fa_fe04_11e9_b617_acde48001122row8_col0\" class=\"data row8 col0\" >0.099</td>\n",
       "                        <td id=\"T_561524fa_fe04_11e9_b617_acde48001122row8_col1\" class=\"data row8 col1\" >0.068</td>\n",
       "                        <td id=\"T_561524fa_fe04_11e9_b617_acde48001122row8_col2\" class=\"data row8 col2\" >0.049</td>\n",
       "                        <td id=\"T_561524fa_fe04_11e9_b617_acde48001122row8_col3\" class=\"data row8 col3\" >0.031</td>\n",
       "                        <td id=\"T_561524fa_fe04_11e9_b617_acde48001122row8_col4\" class=\"data row8 col4\" >0.056</td>\n",
       "                        <td id=\"T_561524fa_fe04_11e9_b617_acde48001122row8_col5\" class=\"data row8 col5\" >0.053</td>\n",
       "                        <td id=\"T_561524fa_fe04_11e9_b617_acde48001122row8_col6\" class=\"data row8 col6\" >-0.12</td>\n",
       "                        <td id=\"T_561524fa_fe04_11e9_b617_acde48001122row8_col7\" class=\"data row8 col7\" >-0.17</td>\n",
       "                        <td id=\"T_561524fa_fe04_11e9_b617_acde48001122row8_col8\" class=\"data row8 col8\" >1</td>\n",
       "                        <td id=\"T_561524fa_fe04_11e9_b617_acde48001122row8_col9\" class=\"data row8 col9\" >-0.064</td>\n",
       "                        <td id=\"T_561524fa_fe04_11e9_b617_acde48001122row8_col10\" class=\"data row8 col10\" >0.022</td>\n",
       "                        <td id=\"T_561524fa_fe04_11e9_b617_acde48001122row8_col11\" class=\"data row8 col11\" >0.019</td>\n",
       "                        <td id=\"T_561524fa_fe04_11e9_b617_acde48001122row8_col12\" class=\"data row8 col12\" >0.046</td>\n",
       "                        <td id=\"T_561524fa_fe04_11e9_b617_acde48001122row8_col13\" class=\"data row8 col13\" >0.011</td>\n",
       "                        <td id=\"T_561524fa_fe04_11e9_b617_acde48001122row8_col14\" class=\"data row8 col14\" >0.013</td>\n",
       "                        <td id=\"T_561524fa_fe04_11e9_b617_acde48001122row8_col15\" class=\"data row8 col15\" >-0.11</td>\n",
       "                        <td id=\"T_561524fa_fe04_11e9_b617_acde48001122row8_col16\" class=\"data row8 col16\" >0.012</td>\n",
       "                        <td id=\"T_561524fa_fe04_11e9_b617_acde48001122row8_col17\" class=\"data row8 col17\" >0.49</td>\n",
       "            </tr>\n",
       "            <tr>\n",
       "                        <th id=\"T_561524fa_fe04_11e9_b617_acde48001122level0_row9\" class=\"row_heading level0 row9\" >SpecialDay</th>\n",
       "                        <td id=\"T_561524fa_fe04_11e9_b617_acde48001122row9_col0\" class=\"data row9 col0\" >-0.095</td>\n",
       "                        <td id=\"T_561524fa_fe04_11e9_b617_acde48001122row9_col1\" class=\"data row9 col1\" >-0.073</td>\n",
       "                        <td id=\"T_561524fa_fe04_11e9_b617_acde48001122row9_col2\" class=\"data row9 col2\" >-0.048</td>\n",
       "                        <td id=\"T_561524fa_fe04_11e9_b617_acde48001122row9_col3\" class=\"data row9 col3\" >-0.031</td>\n",
       "                        <td id=\"T_561524fa_fe04_11e9_b617_acde48001122row9_col4\" class=\"data row9 col4\" >-0.024</td>\n",
       "                        <td id=\"T_561524fa_fe04_11e9_b617_acde48001122row9_col5\" class=\"data row9 col5\" >-0.036</td>\n",
       "                        <td id=\"T_561524fa_fe04_11e9_b617_acde48001122row9_col6\" class=\"data row9 col6\" >0.073</td>\n",
       "                        <td id=\"T_561524fa_fe04_11e9_b617_acde48001122row9_col7\" class=\"data row9 col7\" >0.1</td>\n",
       "                        <td id=\"T_561524fa_fe04_11e9_b617_acde48001122row9_col8\" class=\"data row9 col8\" >-0.064</td>\n",
       "                        <td id=\"T_561524fa_fe04_11e9_b617_acde48001122row9_col9\" class=\"data row9 col9\" >1</td>\n",
       "                        <td id=\"T_561524fa_fe04_11e9_b617_acde48001122row9_col10\" class=\"data row9 col10\" >0.079</td>\n",
       "                        <td id=\"T_561524fa_fe04_11e9_b617_acde48001122row9_col11\" class=\"data row9 col11\" >0.013</td>\n",
       "                        <td id=\"T_561524fa_fe04_11e9_b617_acde48001122row9_col12\" class=\"data row9 col12\" >0.0035</td>\n",
       "                        <td id=\"T_561524fa_fe04_11e9_b617_acde48001122row9_col13\" class=\"data row9 col13\" >-0.016</td>\n",
       "                        <td id=\"T_561524fa_fe04_11e9_b617_acde48001122row9_col14\" class=\"data row9 col14\" >0.052</td>\n",
       "                        <td id=\"T_561524fa_fe04_11e9_b617_acde48001122row9_col15\" class=\"data row9 col15\" >0.086</td>\n",
       "                        <td id=\"T_561524fa_fe04_11e9_b617_acde48001122row9_col16\" class=\"data row9 col16\" >-0.017</td>\n",
       "                        <td id=\"T_561524fa_fe04_11e9_b617_acde48001122row9_col17\" class=\"data row9 col17\" >-0.082</td>\n",
       "            </tr>\n",
       "            <tr>\n",
       "                        <th id=\"T_561524fa_fe04_11e9_b617_acde48001122level0_row10\" class=\"row_heading level0 row10\" >Month</th>\n",
       "                        <td id=\"T_561524fa_fe04_11e9_b617_acde48001122row10_col0\" class=\"data row10 col0\" >0.049</td>\n",
       "                        <td id=\"T_561524fa_fe04_11e9_b617_acde48001122row10_col1\" class=\"data row10 col1\" >0.029</td>\n",
       "                        <td id=\"T_561524fa_fe04_11e9_b617_acde48001122row10_col2\" class=\"data row10 col2\" >0.02</td>\n",
       "                        <td id=\"T_561524fa_fe04_11e9_b617_acde48001122row10_col3\" class=\"data row10 col3\" >0.006</td>\n",
       "                        <td id=\"T_561524fa_fe04_11e9_b617_acde48001122row10_col4\" class=\"data row10 col4\" >0.07</td>\n",
       "                        <td id=\"T_561524fa_fe04_11e9_b617_acde48001122row10_col5\" class=\"data row10 col5\" >0.061</td>\n",
       "                        <td id=\"T_561524fa_fe04_11e9_b617_acde48001122row10_col6\" class=\"data row10 col6\" >-0.024</td>\n",
       "                        <td id=\"T_561524fa_fe04_11e9_b617_acde48001122row10_col7\" class=\"data row10 col7\" >-0.039</td>\n",
       "                        <td id=\"T_561524fa_fe04_11e9_b617_acde48001122row10_col8\" class=\"data row10 col8\" >0.022</td>\n",
       "                        <td id=\"T_561524fa_fe04_11e9_b617_acde48001122row10_col9\" class=\"data row10 col9\" >0.079</td>\n",
       "                        <td id=\"T_561524fa_fe04_11e9_b617_acde48001122row10_col10\" class=\"data row10 col10\" >1</td>\n",
       "                        <td id=\"T_561524fa_fe04_11e9_b617_acde48001122row10_col11\" class=\"data row10 col11\" >-0.03</td>\n",
       "                        <td id=\"T_561524fa_fe04_11e9_b617_acde48001122row10_col12\" class=\"data row10 col12\" >-0.046</td>\n",
       "                        <td id=\"T_561524fa_fe04_11e9_b617_acde48001122row10_col13\" class=\"data row10 col13\" >-0.033</td>\n",
       "                        <td id=\"T_561524fa_fe04_11e9_b617_acde48001122row10_col14\" class=\"data row10 col14\" >0.042</td>\n",
       "                        <td id=\"T_561524fa_fe04_11e9_b617_acde48001122row10_col15\" class=\"data row10 col15\" >0.026</td>\n",
       "                        <td id=\"T_561524fa_fe04_11e9_b617_acde48001122row10_col16\" class=\"data row10 col16\" >0.029</td>\n",
       "                        <td id=\"T_561524fa_fe04_11e9_b617_acde48001122row10_col17\" class=\"data row10 col17\" >0.08</td>\n",
       "            </tr>\n",
       "            <tr>\n",
       "                        <th id=\"T_561524fa_fe04_11e9_b617_acde48001122level0_row11\" class=\"row_heading level0 row11\" >OperatingSystems</th>\n",
       "                        <td id=\"T_561524fa_fe04_11e9_b617_acde48001122row11_col0\" class=\"data row11 col0\" >-0.0063</td>\n",
       "                        <td id=\"T_561524fa_fe04_11e9_b617_acde48001122row11_col1\" class=\"data row11 col1\" >-0.0073</td>\n",
       "                        <td id=\"T_561524fa_fe04_11e9_b617_acde48001122row11_col2\" class=\"data row11 col2\" >-0.0095</td>\n",
       "                        <td id=\"T_561524fa_fe04_11e9_b617_acde48001122row11_col3\" class=\"data row11 col3\" >-0.0096</td>\n",
       "                        <td id=\"T_561524fa_fe04_11e9_b617_acde48001122row11_col4\" class=\"data row11 col4\" >0.0043</td>\n",
       "                        <td id=\"T_561524fa_fe04_11e9_b617_acde48001122row11_col5\" class=\"data row11 col5\" >0.003</td>\n",
       "                        <td id=\"T_561524fa_fe04_11e9_b617_acde48001122row11_col6\" class=\"data row11 col6\" >0.024</td>\n",
       "                        <td id=\"T_561524fa_fe04_11e9_b617_acde48001122row11_col7\" class=\"data row11 col7\" >0.015</td>\n",
       "                        <td id=\"T_561524fa_fe04_11e9_b617_acde48001122row11_col8\" class=\"data row11 col8\" >0.019</td>\n",
       "                        <td id=\"T_561524fa_fe04_11e9_b617_acde48001122row11_col9\" class=\"data row11 col9\" >0.013</td>\n",
       "                        <td id=\"T_561524fa_fe04_11e9_b617_acde48001122row11_col10\" class=\"data row11 col10\" >-0.03</td>\n",
       "                        <td id=\"T_561524fa_fe04_11e9_b617_acde48001122row11_col11\" class=\"data row11 col11\" >1</td>\n",
       "                        <td id=\"T_561524fa_fe04_11e9_b617_acde48001122row11_col12\" class=\"data row11 col12\" >0.22</td>\n",
       "                        <td id=\"T_561524fa_fe04_11e9_b617_acde48001122row11_col13\" class=\"data row11 col13\" >0.077</td>\n",
       "                        <td id=\"T_561524fa_fe04_11e9_b617_acde48001122row11_col14\" class=\"data row11 col14\" >0.19</td>\n",
       "                        <td id=\"T_561524fa_fe04_11e9_b617_acde48001122row11_col15\" class=\"data row11 col15\" >0.0015</td>\n",
       "                        <td id=\"T_561524fa_fe04_11e9_b617_acde48001122row11_col16\" class=\"data row11 col16\" >0.00028</td>\n",
       "                        <td id=\"T_561524fa_fe04_11e9_b617_acde48001122row11_col17\" class=\"data row11 col17\" >-0.015</td>\n",
       "            </tr>\n",
       "            <tr>\n",
       "                        <th id=\"T_561524fa_fe04_11e9_b617_acde48001122level0_row12\" class=\"row_heading level0 row12\" >Browser</th>\n",
       "                        <td id=\"T_561524fa_fe04_11e9_b617_acde48001122row12_col0\" class=\"data row12 col0\" >-0.025</td>\n",
       "                        <td id=\"T_561524fa_fe04_11e9_b617_acde48001122row12_col1\" class=\"data row12 col1\" >-0.015</td>\n",
       "                        <td id=\"T_561524fa_fe04_11e9_b617_acde48001122row12_col2\" class=\"data row12 col2\" >-0.038</td>\n",
       "                        <td id=\"T_561524fa_fe04_11e9_b617_acde48001122row12_col3\" class=\"data row12 col3\" >-0.019</td>\n",
       "                        <td id=\"T_561524fa_fe04_11e9_b617_acde48001122row12_col4\" class=\"data row12 col4\" >-0.013</td>\n",
       "                        <td id=\"T_561524fa_fe04_11e9_b617_acde48001122row12_col5\" class=\"data row12 col5\" >-0.0074</td>\n",
       "                        <td id=\"T_561524fa_fe04_11e9_b617_acde48001122row12_col6\" class=\"data row12 col6\" >-0.016</td>\n",
       "                        <td id=\"T_561524fa_fe04_11e9_b617_acde48001122row12_col7\" class=\"data row12 col7\" >-0.0044</td>\n",
       "                        <td id=\"T_561524fa_fe04_11e9_b617_acde48001122row12_col8\" class=\"data row12 col8\" >0.046</td>\n",
       "                        <td id=\"T_561524fa_fe04_11e9_b617_acde48001122row12_col9\" class=\"data row12 col9\" >0.0035</td>\n",
       "                        <td id=\"T_561524fa_fe04_11e9_b617_acde48001122row12_col10\" class=\"data row12 col10\" >-0.046</td>\n",
       "                        <td id=\"T_561524fa_fe04_11e9_b617_acde48001122row12_col11\" class=\"data row12 col11\" >0.22</td>\n",
       "                        <td id=\"T_561524fa_fe04_11e9_b617_acde48001122row12_col12\" class=\"data row12 col12\" >1</td>\n",
       "                        <td id=\"T_561524fa_fe04_11e9_b617_acde48001122row12_col13\" class=\"data row12 col13\" >0.097</td>\n",
       "                        <td id=\"T_561524fa_fe04_11e9_b617_acde48001122row12_col14\" class=\"data row12 col14\" >0.11</td>\n",
       "                        <td id=\"T_561524fa_fe04_11e9_b617_acde48001122row12_col15\" class=\"data row12 col15\" >-0.022</td>\n",
       "                        <td id=\"T_561524fa_fe04_11e9_b617_acde48001122row12_col16\" class=\"data row12 col16\" >-0.04</td>\n",
       "                        <td id=\"T_561524fa_fe04_11e9_b617_acde48001122row12_col17\" class=\"data row12 col17\" >0.024</td>\n",
       "            </tr>\n",
       "            <tr>\n",
       "                        <th id=\"T_561524fa_fe04_11e9_b617_acde48001122level0_row13\" class=\"row_heading level0 row13\" >Region</th>\n",
       "                        <td id=\"T_561524fa_fe04_11e9_b617_acde48001122row13_col0\" class=\"data row13 col0\" >-0.0055</td>\n",
       "                        <td id=\"T_561524fa_fe04_11e9_b617_acde48001122row13_col1\" class=\"data row13 col1\" >-0.0056</td>\n",
       "                        <td id=\"T_561524fa_fe04_11e9_b617_acde48001122row13_col2\" class=\"data row13 col2\" >-0.029</td>\n",
       "                        <td id=\"T_561524fa_fe04_11e9_b617_acde48001122row13_col3\" class=\"data row13 col3\" >-0.027</td>\n",
       "                        <td id=\"T_561524fa_fe04_11e9_b617_acde48001122row13_col4\" class=\"data row13 col4\" >-0.038</td>\n",
       "                        <td id=\"T_561524fa_fe04_11e9_b617_acde48001122row13_col5\" class=\"data row13 col5\" >-0.033</td>\n",
       "                        <td id=\"T_561524fa_fe04_11e9_b617_acde48001122row13_col6\" class=\"data row13 col6\" >-0.0065</td>\n",
       "                        <td id=\"T_561524fa_fe04_11e9_b617_acde48001122row13_col7\" class=\"data row13 col7\" >-0.0089</td>\n",
       "                        <td id=\"T_561524fa_fe04_11e9_b617_acde48001122row13_col8\" class=\"data row13 col8\" >0.011</td>\n",
       "                        <td id=\"T_561524fa_fe04_11e9_b617_acde48001122row13_col9\" class=\"data row13 col9\" >-0.016</td>\n",
       "                        <td id=\"T_561524fa_fe04_11e9_b617_acde48001122row13_col10\" class=\"data row13 col10\" >-0.033</td>\n",
       "                        <td id=\"T_561524fa_fe04_11e9_b617_acde48001122row13_col11\" class=\"data row13 col11\" >0.077</td>\n",
       "                        <td id=\"T_561524fa_fe04_11e9_b617_acde48001122row13_col12\" class=\"data row13 col12\" >0.097</td>\n",
       "                        <td id=\"T_561524fa_fe04_11e9_b617_acde48001122row13_col13\" class=\"data row13 col13\" >1</td>\n",
       "                        <td id=\"T_561524fa_fe04_11e9_b617_acde48001122row13_col14\" class=\"data row13 col14\" >0.048</td>\n",
       "                        <td id=\"T_561524fa_fe04_11e9_b617_acde48001122row13_col15\" class=\"data row13 col15\" >-0.036</td>\n",
       "                        <td id=\"T_561524fa_fe04_11e9_b617_acde48001122row13_col16\" class=\"data row13 col16\" >-0.00069</td>\n",
       "                        <td id=\"T_561524fa_fe04_11e9_b617_acde48001122row13_col17\" class=\"data row13 col17\" >-0.012</td>\n",
       "            </tr>\n",
       "            <tr>\n",
       "                        <th id=\"T_561524fa_fe04_11e9_b617_acde48001122level0_row14\" class=\"row_heading level0 row14\" >TrafficType</th>\n",
       "                        <td id=\"T_561524fa_fe04_11e9_b617_acde48001122row14_col0\" class=\"data row14 col0\" >-0.034</td>\n",
       "                        <td id=\"T_561524fa_fe04_11e9_b617_acde48001122row14_col1\" class=\"data row14 col1\" >-0.014</td>\n",
       "                        <td id=\"T_561524fa_fe04_11e9_b617_acde48001122row14_col2\" class=\"data row14 col2\" >-0.034</td>\n",
       "                        <td id=\"T_561524fa_fe04_11e9_b617_acde48001122row14_col3\" class=\"data row14 col3\" >-0.025</td>\n",
       "                        <td id=\"T_561524fa_fe04_11e9_b617_acde48001122row14_col4\" class=\"data row14 col4\" >-0.043</td>\n",
       "                        <td id=\"T_561524fa_fe04_11e9_b617_acde48001122row14_col5\" class=\"data row14 col5\" >-0.036</td>\n",
       "                        <td id=\"T_561524fa_fe04_11e9_b617_acde48001122row14_col6\" class=\"data row14 col6\" >0.078</td>\n",
       "                        <td id=\"T_561524fa_fe04_11e9_b617_acde48001122row14_col7\" class=\"data row14 col7\" >0.079</td>\n",
       "                        <td id=\"T_561524fa_fe04_11e9_b617_acde48001122row14_col8\" class=\"data row14 col8\" >0.013</td>\n",
       "                        <td id=\"T_561524fa_fe04_11e9_b617_acde48001122row14_col9\" class=\"data row14 col9\" >0.052</td>\n",
       "                        <td id=\"T_561524fa_fe04_11e9_b617_acde48001122row14_col10\" class=\"data row14 col10\" >0.042</td>\n",
       "                        <td id=\"T_561524fa_fe04_11e9_b617_acde48001122row14_col11\" class=\"data row14 col11\" >0.19</td>\n",
       "                        <td id=\"T_561524fa_fe04_11e9_b617_acde48001122row14_col12\" class=\"data row14 col12\" >0.11</td>\n",
       "                        <td id=\"T_561524fa_fe04_11e9_b617_acde48001122row14_col13\" class=\"data row14 col13\" >0.048</td>\n",
       "                        <td id=\"T_561524fa_fe04_11e9_b617_acde48001122row14_col14\" class=\"data row14 col14\" >1</td>\n",
       "                        <td id=\"T_561524fa_fe04_11e9_b617_acde48001122row14_col15\" class=\"data row14 col15\" >-0.0028</td>\n",
       "                        <td id=\"T_561524fa_fe04_11e9_b617_acde48001122row14_col16\" class=\"data row14 col16\" >-0.0022</td>\n",
       "                        <td id=\"T_561524fa_fe04_11e9_b617_acde48001122row14_col17\" class=\"data row14 col17\" >-0.0051</td>\n",
       "            </tr>\n",
       "            <tr>\n",
       "                        <th id=\"T_561524fa_fe04_11e9_b617_acde48001122level0_row15\" class=\"row_heading level0 row15\" >VisitorType</th>\n",
       "                        <td id=\"T_561524fa_fe04_11e9_b617_acde48001122row15_col0\" class=\"data row15 col0\" >-0.026</td>\n",
       "                        <td id=\"T_561524fa_fe04_11e9_b617_acde48001122row15_col1\" class=\"data row15 col1\" >-0.024</td>\n",
       "                        <td id=\"T_561524fa_fe04_11e9_b617_acde48001122row15_col2\" class=\"data row15 col2\" >0.056</td>\n",
       "                        <td id=\"T_561524fa_fe04_11e9_b617_acde48001122row15_col3\" class=\"data row15 col3\" >0.045</td>\n",
       "                        <td id=\"T_561524fa_fe04_11e9_b617_acde48001122row15_col4\" class=\"data row15 col4\" >0.13</td>\n",
       "                        <td id=\"T_561524fa_fe04_11e9_b617_acde48001122row15_col5\" class=\"data row15 col5\" >0.12</td>\n",
       "                        <td id=\"T_561524fa_fe04_11e9_b617_acde48001122row15_col6\" class=\"data row15 col6\" >0.14</td>\n",
       "                        <td id=\"T_561524fa_fe04_11e9_b617_acde48001122row15_col7\" class=\"data row15 col7\" >0.18</td>\n",
       "                        <td id=\"T_561524fa_fe04_11e9_b617_acde48001122row15_col8\" class=\"data row15 col8\" >-0.11</td>\n",
       "                        <td id=\"T_561524fa_fe04_11e9_b617_acde48001122row15_col9\" class=\"data row15 col9\" >0.086</td>\n",
       "                        <td id=\"T_561524fa_fe04_11e9_b617_acde48001122row15_col10\" class=\"data row15 col10\" >0.026</td>\n",
       "                        <td id=\"T_561524fa_fe04_11e9_b617_acde48001122row15_col11\" class=\"data row15 col11\" >0.0015</td>\n",
       "                        <td id=\"T_561524fa_fe04_11e9_b617_acde48001122row15_col12\" class=\"data row15 col12\" >-0.022</td>\n",
       "                        <td id=\"T_561524fa_fe04_11e9_b617_acde48001122row15_col13\" class=\"data row15 col13\" >-0.036</td>\n",
       "                        <td id=\"T_561524fa_fe04_11e9_b617_acde48001122row15_col14\" class=\"data row15 col14\" >-0.0028</td>\n",
       "                        <td id=\"T_561524fa_fe04_11e9_b617_acde48001122row15_col15\" class=\"data row15 col15\" >1</td>\n",
       "                        <td id=\"T_561524fa_fe04_11e9_b617_acde48001122row15_col16\" class=\"data row15 col16\" >-0.044</td>\n",
       "                        <td id=\"T_561524fa_fe04_11e9_b617_acde48001122row15_col17\" class=\"data row15 col17\" >-0.1</td>\n",
       "            </tr>\n",
       "            <tr>\n",
       "                        <th id=\"T_561524fa_fe04_11e9_b617_acde48001122level0_row16\" class=\"row_heading level0 row16\" >Weekend</th>\n",
       "                        <td id=\"T_561524fa_fe04_11e9_b617_acde48001122row16_col0\" class=\"data row16 col0\" >0.026</td>\n",
       "                        <td id=\"T_561524fa_fe04_11e9_b617_acde48001122row16_col1\" class=\"data row16 col1\" >0.015</td>\n",
       "                        <td id=\"T_561524fa_fe04_11e9_b617_acde48001122row16_col2\" class=\"data row16 col2\" >0.036</td>\n",
       "                        <td id=\"T_561524fa_fe04_11e9_b617_acde48001122row16_col3\" class=\"data row16 col3\" >0.024</td>\n",
       "                        <td id=\"T_561524fa_fe04_11e9_b617_acde48001122row16_col4\" class=\"data row16 col4\" >0.016</td>\n",
       "                        <td id=\"T_561524fa_fe04_11e9_b617_acde48001122row16_col5\" class=\"data row16 col5\" >0.0073</td>\n",
       "                        <td id=\"T_561524fa_fe04_11e9_b617_acde48001122row16_col6\" class=\"data row16 col6\" >-0.047</td>\n",
       "                        <td id=\"T_561524fa_fe04_11e9_b617_acde48001122row16_col7\" class=\"data row16 col7\" >-0.063</td>\n",
       "                        <td id=\"T_561524fa_fe04_11e9_b617_acde48001122row16_col8\" class=\"data row16 col8\" >0.012</td>\n",
       "                        <td id=\"T_561524fa_fe04_11e9_b617_acde48001122row16_col9\" class=\"data row16 col9\" >-0.017</td>\n",
       "                        <td id=\"T_561524fa_fe04_11e9_b617_acde48001122row16_col10\" class=\"data row16 col10\" >0.029</td>\n",
       "                        <td id=\"T_561524fa_fe04_11e9_b617_acde48001122row16_col11\" class=\"data row16 col11\" >0.00028</td>\n",
       "                        <td id=\"T_561524fa_fe04_11e9_b617_acde48001122row16_col12\" class=\"data row16 col12\" >-0.04</td>\n",
       "                        <td id=\"T_561524fa_fe04_11e9_b617_acde48001122row16_col13\" class=\"data row16 col13\" >-0.00069</td>\n",
       "                        <td id=\"T_561524fa_fe04_11e9_b617_acde48001122row16_col14\" class=\"data row16 col14\" >-0.0022</td>\n",
       "                        <td id=\"T_561524fa_fe04_11e9_b617_acde48001122row16_col15\" class=\"data row16 col15\" >-0.044</td>\n",
       "                        <td id=\"T_561524fa_fe04_11e9_b617_acde48001122row16_col16\" class=\"data row16 col16\" >1</td>\n",
       "                        <td id=\"T_561524fa_fe04_11e9_b617_acde48001122row16_col17\" class=\"data row16 col17\" >0.029</td>\n",
       "            </tr>\n",
       "            <tr>\n",
       "                        <th id=\"T_561524fa_fe04_11e9_b617_acde48001122level0_row17\" class=\"row_heading level0 row17\" >Revenue</th>\n",
       "                        <td id=\"T_561524fa_fe04_11e9_b617_acde48001122row17_col0\" class=\"data row17 col0\" >0.14</td>\n",
       "                        <td id=\"T_561524fa_fe04_11e9_b617_acde48001122row17_col1\" class=\"data row17 col1\" >0.094</td>\n",
       "                        <td id=\"T_561524fa_fe04_11e9_b617_acde48001122row17_col2\" class=\"data row17 col2\" >0.095</td>\n",
       "                        <td id=\"T_561524fa_fe04_11e9_b617_acde48001122row17_col3\" class=\"data row17 col3\" >0.07</td>\n",
       "                        <td id=\"T_561524fa_fe04_11e9_b617_acde48001122row17_col4\" class=\"data row17 col4\" >0.16</td>\n",
       "                        <td id=\"T_561524fa_fe04_11e9_b617_acde48001122row17_col5\" class=\"data row17 col5\" >0.15</td>\n",
       "                        <td id=\"T_561524fa_fe04_11e9_b617_acde48001122row17_col6\" class=\"data row17 col6\" >-0.15</td>\n",
       "                        <td id=\"T_561524fa_fe04_11e9_b617_acde48001122row17_col7\" class=\"data row17 col7\" >-0.21</td>\n",
       "                        <td id=\"T_561524fa_fe04_11e9_b617_acde48001122row17_col8\" class=\"data row17 col8\" >0.49</td>\n",
       "                        <td id=\"T_561524fa_fe04_11e9_b617_acde48001122row17_col9\" class=\"data row17 col9\" >-0.082</td>\n",
       "                        <td id=\"T_561524fa_fe04_11e9_b617_acde48001122row17_col10\" class=\"data row17 col10\" >0.08</td>\n",
       "                        <td id=\"T_561524fa_fe04_11e9_b617_acde48001122row17_col11\" class=\"data row17 col11\" >-0.015</td>\n",
       "                        <td id=\"T_561524fa_fe04_11e9_b617_acde48001122row17_col12\" class=\"data row17 col12\" >0.024</td>\n",
       "                        <td id=\"T_561524fa_fe04_11e9_b617_acde48001122row17_col13\" class=\"data row17 col13\" >-0.012</td>\n",
       "                        <td id=\"T_561524fa_fe04_11e9_b617_acde48001122row17_col14\" class=\"data row17 col14\" >-0.0051</td>\n",
       "                        <td id=\"T_561524fa_fe04_11e9_b617_acde48001122row17_col15\" class=\"data row17 col15\" >-0.1</td>\n",
       "                        <td id=\"T_561524fa_fe04_11e9_b617_acde48001122row17_col16\" class=\"data row17 col16\" >0.029</td>\n",
       "                        <td id=\"T_561524fa_fe04_11e9_b617_acde48001122row17_col17\" class=\"data row17 col17\" >1</td>\n",
       "            </tr>\n",
       "    </tbody></table>"
      ],
      "text/plain": [
       "<pandas.io.formats.style.Styler at 0x109d82780>"
      ]
     },
     "execution_count": 11,
     "metadata": {},
     "output_type": "execute_result"
    }
   ],
   "source": [
    "# Another fancy version of the visulization to present same information of corr matrix by using built in pandas tools.\n",
    "\n",
    "corr = dataset.corr()\n",
    "corr.style.background_gradient(cmap='coolwarm').set_precision(2)"
   ]
  },
  {
   "cell_type": "code",
   "execution_count": 12,
   "metadata": {},
   "outputs": [
    {
     "data": {
      "text/plain": [
       "Revenue\n",
       "0    10422\n",
       "1     1908\n",
       "dtype: int64"
      ]
     },
     "execution_count": 12,
     "metadata": {},
     "output_type": "execute_result"
    }
   ],
   "source": [
    "#Count of class labels\n",
    "dataset.groupby('Revenue').size()"
   ]
  },
  {
   "cell_type": "code",
   "execution_count": 43,
   "metadata": {},
   "outputs": [
    {
     "data": {
      "text/plain": [
       "<matplotlib.axes._subplots.AxesSubplot at 0x1a1fa1f940>"
      ]
     },
     "execution_count": 43,
     "metadata": {},
     "output_type": "execute_result"
    },
    {
     "data": {
      "image/png": "[encoded data removed]",
      "text/plain": [
       "<Figure size 432x288 with 2 Axes>"
      ]
     },
     "metadata": {
      "needs_background": "light"
     },
     "output_type": "display_data"
    }
   ],
   "source": [
    "#    b. Visulization \n",
    "# visulize the target dependency \"Revenue\" in histogram & density by using pandas library\n",
    "ax = dataset.Revenue.plot(kind='hist')\n",
    "dataset.Revenue.plot(kind='kde', ax=ax, secondary_y=True)"
   ]
  },
  {
   "cell_type": "code",
   "execution_count": 42,
   "metadata": {},
   "outputs": [
    {
     "data": {
      "text/plain": [
       "<matplotlib.axes._subplots.AxesSubplot at 0x1a1f983390>"
      ]
     },
     "execution_count": 42,
     "metadata": {},
     "output_type": "execute_result"
    },
    {
     "data": {
      "image/png": "[encoded data removed]",
      "text/plain": [
       "<Figure size 432x288 with 2 Axes>"
      ]
     },
     "metadata": {
      "needs_background": "light"
     },
     "output_type": "display_data"
    }
   ],
   "source": [
    "# Show all other column's histogram & density charts\n",
    "# Administrative\n",
    "ax = dataset.Administrative.plot(kind='hist')\n",
    "dataset.Administrative.plot(kind='kde', ax=ax, secondary_y=True)"
   ]
  },
  {
   "cell_type": "code",
   "execution_count": 44,
   "metadata": {},
   "outputs": [
    {
     "data": {
      "text/plain": [
       "<matplotlib.axes._subplots.AxesSubplot at 0x1a1fba4048>"
      ]
     },
     "execution_count": 44,
     "metadata": {},
     "output_type": "execute_result"
    },
    {
     "data": {
      "image/png": "[encoded data removed]",
      "text/plain": [
       "<Figure size 432x288 with 2 Axes>"
      ]
     },
     "metadata": {
      "needs_background": "light"
     },
     "output_type": "display_data"
    }
   ],
   "source": [
    "# Show all other column's histogram & density charts\n",
    "# Administrative_Duration\n",
    "ax = dataset.Administrative_Duration.plot(kind='hist')\n",
    "dataset.Administrative_Duration.plot(kind='kde', ax=ax, secondary_y=True)"
   ]
  },
  {
   "cell_type": "code",
   "execution_count": 45,
   "metadata": {},
   "outputs": [
    {
     "data": {
      "text/plain": [
       "<matplotlib.axes._subplots.AxesSubplot at 0x1a1fd4d748>"
      ]
     },
     "execution_count": 45,
     "metadata": {},
     "output_type": "execute_result"
    },
    {
     "data": {
      "image/png": "[encoded data removed]",
      "text/plain": [
       "<Figure size 432x288 with 2 Axes>"
      ]
     },
     "metadata": {
      "needs_background": "light"
     },
     "output_type": "display_data"
    }
   ],
   "source": [
    "# Show all other column's histogram & density charts\n",
    "# Informational\n",
    "ax = dataset.Informational.plot(kind='hist')\n",
    "dataset.Informational.plot(kind='kde', ax=ax, secondary_y=True)"
   ]
  },
  {
   "cell_type": "code",
   "execution_count": 46,
   "metadata": {},
   "outputs": [
    {
     "data": {
      "text/plain": [
       "<matplotlib.axes._subplots.AxesSubplot at 0x1a1fec9be0>"
      ]
     },
     "execution_count": 46,
     "metadata": {},
     "output_type": "execute_result"
    },
    {
     "data": {
      "image/png": "[encoded data removed]",
      "text/plain": [
       "<Figure size 432x288 with 2 Axes>"
      ]
     },
     "metadata": {
      "needs_background": "light"
     },
     "output_type": "display_data"
    }
   ],
   "source": [
    "# Show all other column's histogram & density charts\n",
    "# Informational_Duration\n",
    "ax = dataset.Informational_Duration.plot(kind='hist')\n",
    "dataset.Informational_Duration.plot(kind='kde', ax=ax, secondary_y=True)"
   ]
  },
  {
   "cell_type": "code",
   "execution_count": 47,
   "metadata": {},
   "outputs": [
    {
     "data": {
      "text/plain": [
       "<matplotlib.axes._subplots.AxesSubplot at 0x1a20089eb8>"
      ]
     },
     "execution_count": 47,
     "metadata": {},
     "output_type": "execute_result"
    },
    {
     "data": {
      "image/png": "[encoded data removed]",
      "text/plain": [
       "<Figure size 432x288 with 2 Axes>"
      ]
     },
     "metadata": {
      "needs_background": "light"
     },
     "output_type": "display_data"
    }
   ],
   "source": [
    "# Show all other column's histogram & density charts\n",
    "# ProductRelated\n",
    "ax = dataset.ProductRelated.plot(kind='hist')\n",
    "dataset.ProductRelated.plot(kind='kde', ax=ax, secondary_y=True)"
   ]
  },
  {
   "cell_type": "code",
   "execution_count": 48,
   "metadata": {},
   "outputs": [
    {
     "data": {
      "text/plain": [
       "<matplotlib.axes._subplots.AxesSubplot at 0x1a20230cf8>"
      ]
     },
     "execution_count": 48,
     "metadata": {},
     "output_type": "execute_result"
    },
    {
     "data": {
      "image/png": "[encoded data removed]",
      "text/plain": [
       "<Figure size 432x288 with 2 Axes>"
      ]
     },
     "metadata": {
      "needs_background": "light"
     },
     "output_type": "display_data"
    }
   ],
   "source": [
    "# Show all other column's histogram & density charts\n",
    "# ProductRelated_Duration\n",
    "ax = dataset.ProductRelated_Duration.plot(kind='hist')\n",
    "dataset.ProductRelated_Duration.plot(kind='kde', ax=ax, secondary_y=True)"
   ]
  },
  {
   "cell_type": "code",
   "execution_count": 49,
   "metadata": {},
   "outputs": [
    {
     "data": {
      "text/plain": [
       "<matplotlib.axes._subplots.AxesSubplot at 0x1a2036e9e8>"
      ]
     },
     "execution_count": 49,
     "metadata": {},
     "output_type": "execute_result"
    },
    {
     "data": {
      "image/png": "[encoded data removed]",
      "text/plain": [
       "<Figure size 432x288 with 2 Axes>"
      ]
     },
     "metadata": {
      "needs_background": "light"
     },
     "output_type": "display_data"
    }
   ],
   "source": [
    "# Show all other column's histogram & density charts\n",
    "# BounceRates\n",
    "ax = dataset.BounceRates.plot(kind='hist')\n",
    "dataset.BounceRates.plot(kind='kde', ax=ax, secondary_y=True)"
   ]
  },
  {
   "cell_type": "code",
   "execution_count": 50,
   "metadata": {},
   "outputs": [
    {
     "data": {
      "text/plain": [
       "<matplotlib.axes._subplots.AxesSubplot at 0x1a2058def0>"
      ]
     },
     "execution_count": 50,
     "metadata": {},
     "output_type": "execute_result"
    },
    {
     "data": {
      "image/png": "[encoded data removed]",
      "text/plain": [
       "<Figure size 432x288 with 2 Axes>"
      ]
     },
     "metadata": {
      "needs_background": "light"
     },
     "output_type": "display_data"
    }
   ],
   "source": [
    "# Show all other column's histogram & density charts\n",
    "# ExitRates\n",
    "ax = dataset.ExitRates.plot(kind='hist')\n",
    "dataset.ExitRates.plot(kind='kde', ax=ax, secondary_y=True)"
   ]
  },
  {
   "cell_type": "code",
   "execution_count": 51,
   "metadata": {},
   "outputs": [
    {
     "data": {
      "text/plain": [
       "<matplotlib.axes._subplots.AxesSubplot at 0x1a205e8fd0>"
      ]
     },
     "execution_count": 51,
     "metadata": {},
     "output_type": "execute_result"
    },
    {
     "data": {
      "image/png": "[encoded data removed]",
      "text/plain": [
       "<Figure size 432x288 with 2 Axes>"
      ]
     },
     "metadata": {
      "needs_background": "light"
     },
     "output_type": "display_data"
    }
   ],
   "source": [
    "# Show all other column's histogram & density charts\n",
    "# PageValues\n",
    "ax = dataset.PageValues.plot(kind='hist')\n",
    "dataset.PageValues.plot(kind='kde', ax=ax, secondary_y=True)"
   ]
  },
  {
   "cell_type": "code",
   "execution_count": 52,
   "metadata": {},
   "outputs": [
    {
     "data": {
      "text/plain": [
       "<matplotlib.axes._subplots.AxesSubplot at 0x1a208d7a20>"
      ]
     },
     "execution_count": 52,
     "metadata": {},
     "output_type": "execute_result"
    },
    {
     "data": {
      "image/png": "[encoded data removed]",
      "text/plain": [
       "<Figure size 432x288 with 2 Axes>"
      ]
     },
     "metadata": {
      "needs_background": "light"
     },
     "output_type": "display_data"
    }
   ],
   "source": [
    "# Show all other column's histogram & density charts\n",
    "# SpecialDay\n",
    "ax = dataset.SpecialDay.plot(kind='hist')\n",
    "dataset.SpecialDay.plot(kind='kde', ax=ax, secondary_y=True)"
   ]
  },
  {
   "cell_type": "code",
   "execution_count": 53,
   "metadata": {},
   "outputs": [
    {
     "data": {
      "text/plain": [
       "<matplotlib.axes._subplots.AxesSubplot at 0x1a20a8dc88>"
      ]
     },
     "execution_count": 53,
     "metadata": {},
     "output_type": "execute_result"
    },
    {
     "data": {
      "image/png": "[encoded data removed]",
      "text/plain": [
       "<Figure size 432x288 with 2 Axes>"
      ]
     },
     "metadata": {
      "needs_background": "light"
     },
     "output_type": "display_data"
    }
   ],
   "source": [
    "# Show all other column's histogram & density charts\n",
    "# Month\n",
    "ax = dataset.Month.plot(kind='hist')\n",
    "dataset.Month.plot(kind='kde', ax=ax, secondary_y=True)"
   ]
  },
  {
   "cell_type": "code",
   "execution_count": 54,
   "metadata": {},
   "outputs": [
    {
     "data": {
      "text/plain": [
       "<matplotlib.axes._subplots.AxesSubplot at 0x1a20c3f0b8>"
      ]
     },
     "execution_count": 54,
     "metadata": {},
     "output_type": "execute_result"
    },
    {
     "data": {
      "image/png": "[encoded data removed]",
      "text/plain": [
       "<Figure size 432x288 with 2 Axes>"
      ]
     },
     "metadata": {
      "needs_background": "light"
     },
     "output_type": "display_data"
    }
   ],
   "source": [
    "# Show all other column's histogram & density charts\n",
    "# OperatingSystems\n",
    "ax = dataset.OperatingSystems.plot(kind='hist')\n",
    "dataset.OperatingSystems.plot(kind='kde', ax=ax, secondary_y=True)"
   ]
  },
  {
   "cell_type": "code",
   "execution_count": 55,
   "metadata": {},
   "outputs": [
    {
     "data": {
      "text/plain": [
       "<matplotlib.axes._subplots.AxesSubplot at 0x1a20dee358>"
      ]
     },
     "execution_count": 55,
     "metadata": {},
     "output_type": "execute_result"
    },
    {
     "data": {
      "image/png": "[encoded data removed]",
      "text/plain": [
       "<Figure size 432x288 with 2 Axes>"
      ]
     },
     "metadata": {
      "needs_background": "light"
     },
     "output_type": "display_data"
    }
   ],
   "source": [
    "# Show all other column's histogram & density charts\n",
    "# Browser\n",
    "ax = dataset.Browser.plot(kind='hist')\n",
    "dataset.Browser.plot(kind='kde', ax=ax, secondary_y=True)"
   ]
  },
  {
   "cell_type": "code",
   "execution_count": 56,
   "metadata": {},
   "outputs": [
    {
     "data": {
      "text/plain": [
       "<matplotlib.axes._subplots.AxesSubplot at 0x1a20fc3a58>"
      ]
     },
     "execution_count": 56,
     "metadata": {},
     "output_type": "execute_result"
    },
    {
     "data": {
      "image/png": "[encoded data removed]",
      "text/plain": [
       "<Figure size 432x288 with 2 Axes>"
      ]
     },
     "metadata": {
      "needs_background": "light"
     },
     "output_type": "display_data"
    }
   ],
   "source": [
    "# Show all other column's histogram & density charts\n",
    "# Region\n",
    "ax = dataset.Region.plot(kind='hist')\n",
    "dataset.Region.plot(kind='kde', ax=ax, secondary_y=True)"
   ]
  },
  {
   "cell_type": "code",
   "execution_count": 57,
   "metadata": {},
   "outputs": [
    {
     "data": {
      "text/plain": [
       "<matplotlib.axes._subplots.AxesSubplot at 0x1a21129390>"
      ]
     },
     "execution_count": 57,
     "metadata": {},
     "output_type": "execute_result"
    },
    {
     "data": {
      "image/png": "[encoded data removed]",
      "text/plain": [
       "<Figure size 432x288 with 2 Axes>"
      ]
     },
     "metadata": {
      "needs_background": "light"
     },
     "output_type": "display_data"
    }
   ],
   "source": [
    "# Show all other column's histogram & density charts\n",
    "# TrafficType\n",
    "ax = dataset.TrafficType.plot(kind='hist')\n",
    "dataset.TrafficType.plot(kind='kde', ax=ax, secondary_y=True)"
   ]
  },
  {
   "cell_type": "code",
   "execution_count": 58,
   "metadata": {},
   "outputs": [
    {
     "data": {
      "text/plain": [
       "<matplotlib.axes._subplots.AxesSubplot at 0x1a212cb4e0>"
      ]
     },
     "execution_count": 58,
     "metadata": {},
     "output_type": "execute_result"
    },
    {
     "data": {
      "image/png": "[encoded data removed]",
      "text/plain": [
       "<Figure size 432x288 with 2 Axes>"
      ]
     },
     "metadata": {
      "needs_background": "light"
     },
     "output_type": "display_data"
    }
   ],
   "source": [
    "# Show all other column's histogram & density charts\n",
    "# VisitorType\n",
    "ax = dataset.VisitorType.plot(kind='hist')\n",
    "dataset.VisitorType.plot(kind='kde', ax=ax, secondary_y=True)"
   ]
  },
  {
   "cell_type": "code",
   "execution_count": 59,
   "metadata": {},
   "outputs": [
    {
     "data": {
      "text/plain": [
       "<matplotlib.axes._subplots.AxesSubplot at 0x1a2147b240>"
      ]
     },
     "execution_count": 59,
     "metadata": {},
     "output_type": "execute_result"
    },
    {
     "data": {
      "image/png": "[encoded data removed]",
      "text/plain": [
       "<Figure size 432x288 with 2 Axes>"
      ]
     },
     "metadata": {
      "needs_background": "light"
     },
     "output_type": "display_data"
    }
   ],
   "source": [
    "# Show all other column's histogram & density charts\n",
    "# Weekend\n",
    "ax = dataset.Weekend.plot(kind='hist')\n",
    "dataset.Weekend.plot(kind='kde', ax=ax, secondary_y=True)"
   ]
  },
  {
   "cell_type": "code",
   "execution_count": 64,
   "metadata": {},
   "outputs": [
    {
     "data": {
      "image/png": "[encoded data removed]",
      "text/plain": [
       "<Figure size 432x288 with 1 Axes>"
      ]
     },
     "metadata": {
      "needs_background": "light"
     },
     "output_type": "display_data"
    }
   ],
   "source": [
    "# Density\n",
    "boxplot = dataset.boxplot(column=['Administrative', 'Informational'])"
   ]
  },
  {
   "cell_type": "code",
   "execution_count": 68,
   "metadata": {
    "scrolled": true
   },
   "outputs": [
    {
     "data": {
      "image/png": "[encoded data removed]",
      "text/plain": [
       "<Figure size 432x288 with 1 Axes>"
      ]
     },
     "metadata": {
      "needs_background": "light"
     },
     "output_type": "display_data"
    }
   ],
   "source": [
    "boxplot = dataset.boxplot(column=['Administrative_Duration', 'Informational_Duration', 'ProductRelated'])"
   ]
  },
  {
   "cell_type": "code",
   "execution_count": 70,
   "metadata": {},
   "outputs": [
    {
     "data": {
      "image/png": "[encoded data removed]",
      "text/plain": [
       "<Figure size 432x288 with 1 Axes>"
      ]
     },
     "metadata": {
      "needs_background": "light"
     },
     "output_type": "display_data"
    }
   ],
   "source": [
    "boxplot = dataset.boxplot(column=['ProductRelated_Duration'])"
   ]
  },
  {
   "cell_type": "code",
   "execution_count": 75,
   "metadata": {},
   "outputs": [
    {
     "data": {
      "image/png": "[encoded data removed]",
      "text/plain": [
       "<Figure size 432x288 with 1 Axes>"
      ]
     },
     "metadata": {
      "needs_background": "light"
     },
     "output_type": "display_data"
    }
   ],
   "source": [
    "boxplot = dataset.boxplot(column=['BounceRates', 'ExitRates'])"
   ]
  },
  {
   "cell_type": "code",
   "execution_count": 76,
   "metadata": {},
   "outputs": [
    {
     "data": {
      "image/png": "[encoded data removed]",
      "text/plain": [
       "<Figure size 432x288 with 1 Axes>"
      ]
     },
     "metadata": {
      "needs_background": "light"
     },
     "output_type": "display_data"
    }
   ],
   "source": [
    "boxplot = dataset.boxplot(column=['PageValues'])"
   ]
  },
  {
   "cell_type": "code",
   "execution_count": 77,
   "metadata": {},
   "outputs": [
    {
     "data": {
      "image/png": "[encoded data removed]",
      "text/plain": [
       "<Figure size 432x288 with 1 Axes>"
      ]
     },
     "metadata": {
      "needs_background": "light"
     },
     "output_type": "display_data"
    }
   ],
   "source": [
    "boxplot = dataset.boxplot(column=['SpecialDay'])"
   ]
  },
  {
   "cell_type": "code",
   "execution_count": 83,
   "metadata": {},
   "outputs": [
    {
     "data": {
      "image/png": "[encoded data removed]",
      "text/plain": [
       "<Figure size 432x288 with 1 Axes>"
      ]
     },
     "metadata": {
      "needs_background": "light"
     },
     "output_type": "display_data"
    }
   ],
   "source": [
    "boxplot = dataset.boxplot(column=['Month', 'OperatingSystems', 'Browser', 'Region', 'TrafficType', 'VisitorType'])"
   ]
  },
  {
   "cell_type": "code",
   "execution_count": 84,
   "metadata": {},
   "outputs": [
    {
     "data": {
      "image/png": "[encoded data removed]",
      "text/plain": [
       "<Figure size 432x288 with 1 Axes>"
      ]
     },
     "metadata": {
      "needs_background": "light"
     },
     "output_type": "display_data"
    }
   ],
   "source": [
    "boxplot = dataset.boxplot(column=['Weekend', 'Revenue'])"
   ]
  },
  {
   "cell_type": "code",
   "execution_count": 86,
   "metadata": {},
   "outputs": [
    {
     "data": {
      "image/png": "[encoded data removed]",
      "text/plain": [
       "<Figure size 432x288 with 1 Axes>"
      ]
     },
     "metadata": {
      "needs_background": "light"
     },
     "output_type": "display_data"
    }
   ],
   "source": [
    "# Some example of feature scatter by using pandas\n",
    "ax = dataset.plot.scatter(x='Revenue', y='Weekend', c='DarkBlue')"
   ]
  },
  {
   "cell_type": "code",
   "execution_count": 87,
   "metadata": {},
   "outputs": [
    {
     "data": {
      "image/png": "[encoded data removed]",
      "text/plain": [
       "<Figure size 432x288 with 1 Axes>"
      ]
     },
     "metadata": {
      "needs_background": "light"
     },
     "output_type": "display_data"
    }
   ],
   "source": [
    "ax = dataset.plot.scatter(x='TrafficType', y='Browser', c='DarkBlue')"
   ]
  },
  {
   "cell_type": "code",
   "execution_count": 88,
   "metadata": {},
   "outputs": [
    {
     "data": {
      "image/png": "[encoded data removed]",
      "text/plain": [
       "<Figure size 432x288 with 1 Axes>"
      ]
     },
     "metadata": {
      "needs_background": "light"
     },
     "output_type": "display_data"
    }
   ],
   "source": [
    "ax = dataset.plot.scatter(x='PageValues', y='BounceRates', c='DarkBlue')"
   ]
  },
  {
   "cell_type": "code",
   "execution_count": 89,
   "metadata": {},
   "outputs": [
    {
     "data": {
      "image/png": "[encoded data removed]",
      "text/plain": [
       "<Figure size 432x288 with 1 Axes>"
      ]
     },
     "metadata": {
      "needs_background": "light"
     },
     "output_type": "display_data"
    }
   ],
   "source": [
    "ax = dataset.plot.scatter(x='Administrative', y='Informational', c='DarkBlue')"
   ]
  },
  {
   "cell_type": "code",
   "execution_count": null,
   "metadata": {},
   "outputs": [],
   "source": [
    "# 3. Prepare Data\n",
    "#    a. Data Cleaning \n",
    "#       Because we have checked the NA value, \n",
    "#       and transferd the string value & category value into integer, so we are already done the cleaning part\n",
    "\n",
    "#    b. Feature Selection\n",
    "#       Unlike the complex problem which have hundreds of the feature, here we only have around 17 features, \n",
    "#       so we choose all of them and did not do feature selection.\n",
    "\n",
    "\n",
    "#    c. Testing the assumption\n",
    "#       N/A\n",
    "\n",
    "#    d. Data Transforms \n",
    "#       We already did the transformation from previous steps."
   ]
  },
  {
   "cell_type": "code",
   "execution_count": 90,
   "metadata": {},
   "outputs": [
    {
     "name": "stdout",
     "output_type": "stream",
     "text": [
      "0    6874\n",
      "1    1288\n",
      "Name: Revenue, dtype: int64 8162\n",
      "0    3548\n",
      "1     620\n",
      "Name: Revenue, dtype: int64 4168\n"
     ]
    }
   ],
   "source": [
    "# 4. Evaluate Algorithms\n",
    "#    a. Split-out validation dataset.\n",
    "np.random.seed(888)\n",
    "msk = np.random.rand(len(dataset)) <= 0.666\n",
    "train = dataset[msk]\n",
    "test = dataset[~msk]\n",
    "print(train['Revenue'].value_counts(), len(train))\n",
    "print(test['Revenue'].value_counts(), len(test))"
   ]
  },
  {
   "cell_type": "code",
   "execution_count": 91,
   "metadata": {},
   "outputs": [
    {
     "name": "stdout",
     "output_type": "stream",
     "text": [
      "['Administrative', 'Administrative_Duration', 'Informational', 'Informational_Duration', 'ProductRelated', 'ProductRelated_Duration', 'BounceRates', 'ExitRates', 'PageValues', 'SpecialDay', 'Month', 'OperatingSystems', 'Browser', 'Region', 'TrafficType', 'VisitorType', 'Weekend']\n"
     ]
    }
   ],
   "source": [
    "features = list(dataset.columns[:-1])\n",
    "print(features)\n",
    "y = train[\"Revenue\"]\n",
    "X = train[features]"
   ]
  },
  {
   "cell_type": "code",
   "execution_count": 94,
   "metadata": {},
   "outputs": [
    {
     "name": "stdout",
     "output_type": "stream",
     "text": [
      "0.8907069407571734\n"
     ]
    }
   ],
   "source": [
    "#    b. Test options and evaluation metrics\n",
    "\n",
    "from sklearn import linear_model\n",
    "from sklearn.metrics import roc_auc_score\n",
    "\n",
    "# Lasso \n",
    "model_lasso = linear_model.Lasso(alpha=0.1)\n",
    "model_lasso.fit(X, y)\n",
    "\n",
    "y_pred_lasso = model_lasso.predict(test[features])\n",
    "y_true = list(test[\"Revenue\"])\n",
    "\n",
    "AUC_ROC_SCORE_lasso = roc_auc_score(y_true, y_pred_lasso)\n",
    "print(AUC_ROC_SCORE_lasso)"
   ]
  },
  {
   "cell_type": "code",
   "execution_count": 95,
   "metadata": {},
   "outputs": [
    {
     "name": "stdout",
     "output_type": "stream",
     "text": [
      "0.904626868385642\n"
     ]
    }
   ],
   "source": [
    "# Linear Regression \n",
    "model_LinearRegression = linear_model.LinearRegression()\n",
    "model_LinearRegression.fit(X, y)\n",
    "\n",
    "y_pred_LinearRegression = model_LinearRegression.predict(test[features])\n",
    "y_true = list(test[\"Revenue\"])\n",
    "\n",
    "AUC_ROC_SCORE_LinearRegression = roc_auc_score(y_true, y_pred_LinearRegression)\n",
    "print(AUC_ROC_SCORE_LinearRegression)"
   ]
  },
  {
   "cell_type": "code",
   "execution_count": 96,
   "metadata": {},
   "outputs": [
    {
     "name": "stdout",
     "output_type": "stream",
     "text": [
      "0.905593792050042\n"
     ]
    }
   ],
   "source": [
    "# Ridge Regression\n",
    "model_Ridge = linear_model.Ridge(alpha=.5)\n",
    "model_Ridge.fit(X, y)\n",
    "\n",
    "y_pred_Ridge = model_Ridge.predict(test[features])\n",
    "y_true = list(test[\"Revenue\"])\n",
    "\n",
    "AUC_ROC_SCORE_Ridge = roc_auc_score(y_true, y_pred_Ridge)\n",
    "print(AUC_ROC_SCORE_Ridge)"
   ]
  },
  {
   "cell_type": "code",
   "execution_count": 97,
   "metadata": {},
   "outputs": [
    {
     "name": "stdout",
     "output_type": "stream",
     "text": [
      "0.8875784176455613\n"
     ]
    }
   ],
   "source": [
    "# ElasticNet, (this is GLM in R language)\n",
    "from sklearn.linear_model import ElasticNet\n",
    "\n",
    "model_ElasticNet = ElasticNet(random_state=0)\n",
    "model_ElasticNet.fit(X, y)\n",
    "\n",
    "y_pred_ElasticNet = model_ElasticNet.predict(test[features])\n",
    "y_true = list(test[\"Revenue\"])\n",
    "\n",
    "AUC_ROC_SCORE_ElasticNet = roc_auc_score(y_true, y_pred_ElasticNet)\n",
    "print(AUC_ROC_SCORE_ElasticNet)"
   ]
  },
  {
   "cell_type": "code",
   "execution_count": null,
   "metadata": {},
   "outputs": [],
   "source": []
  }
 ],
 "metadata": {
  "kernelspec": {
   "display_name": "Python 3",
   "language": "python",
   "name": "python3"
  },
  "language_info": {
   "codemirror_mode": {
    "name": "ipython",
    "version": 3
   },
   "file_extension": ".py",
   "mimetype": "text/x-python",
   "name": "python",
   "nbconvert_exporter": "python",
   "pygments_lexer": "ipython3",
   "version": "3.7.3"
  }
 },
 "nbformat": 4,
 "nbformat_minor": 2
}
